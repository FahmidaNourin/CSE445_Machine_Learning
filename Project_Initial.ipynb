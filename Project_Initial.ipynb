{
  "nbformat": 4,
  "nbformat_minor": 0,
  "metadata": {
    "colab": {
      "provenance": [],
      "include_colab_link": true
    },
    "kernelspec": {
      "name": "python3",
      "display_name": "Python 3"
    },
    "language_info": {
      "name": "python"
    }
  },
  "cells": [
    {
      "cell_type": "markdown",
      "metadata": {
        "id": "view-in-github",
        "colab_type": "text"
      },
      "source": [
        "<a href=\"https://colab.research.google.com/github/FahmidaNourin/CSE445_Machine_Learning/blob/main/Project_Initial.ipynb\" target=\"_parent\"><img src=\"https://colab.research.google.com/assets/colab-badge.svg\" alt=\"Open In Colab\"/></a>"
      ]
    },
    {
      "cell_type": "markdown",
      "source": [
        "#connecting with drive"
      ],
      "metadata": {
        "id": "a9eWOMrt9NCf"
      }
    },
    {
      "cell_type": "code",
      "source": [
        "from google.colab import drive\n",
        "drive.mount('/content/drive')"
      ],
      "metadata": {
        "id": "gg_-1xQhkeLV",
        "outputId": "ba8c9a71-5526-4d75-c596-726d4fe94329",
        "colab": {
          "base_uri": "https://localhost:8080/"
        }
      },
      "execution_count": 5,
      "outputs": [
        {
          "output_type": "stream",
          "name": "stdout",
          "text": [
            "Drive already mounted at /content/drive; to attempt to forcibly remount, call drive.mount(\"/content/drive\", force_remount=True).\n"
          ]
        }
      ]
    },
    {
      "cell_type": "markdown",
      "source": [
        "#read in csv file"
      ],
      "metadata": {
        "id": "o4ik_h--9kFO"
      }
    },
    {
      "cell_type": "code",
      "source": [
        "import numpy as np\n",
        "import pandas as pd\n",
        "\n",
        "\n",
        "df = pd.read_csv(\"/content/drive/MyDrive/Sleep_Research/HMC_Sleep_Stages.csv\")"
      ],
      "metadata": {
        "id": "q44vYeB9m-Ja"
      },
      "execution_count": 6,
      "outputs": []
    },
    {
      "cell_type": "code",
      "source": [
        "df.head()"
      ],
      "metadata": {
        "colab": {
          "base_uri": "https://localhost:8080/",
          "height": 250
        },
        "id": "XuQg-qLppPSZ",
        "outputId": "a0570556-67b7-4db0-cfbe-8791a23a7796"
      },
      "execution_count": 7,
      "outputs": [
        {
          "output_type": "execute_result",
          "data": {
            "text/plain": [
              "  Subject Sleep_Stage  Epoch  MeanP_Alpha_F4  MedianF_Alpha_F4  \\\n",
              "0   SN002          N1      6         0.00034          10.11512   \n",
              "1   SN002          N1      7         0.00035          10.73951   \n",
              "2   SN002          N1      8         0.00035           9.36585   \n",
              "3   SN002          N1    116         0.00054           9.74049   \n",
              "4   SN002          N1    117         0.00034          10.11512   \n",
              "\n",
              "   MeanF_Alpha_F4  SpectralEdge_Alpha_F4  PeakF_Alpha_F4  MeanP_Beta_F4  \\\n",
              "0        17.85756               17.48293        10.24000        0.00047   \n",
              "1        17.60780               17.10829         9.11610        0.00048   \n",
              "2        17.60780               16.98341         9.24098        0.00042   \n",
              "3        15.98439               15.48488         8.36683        0.00051   \n",
              "4        16.48390               15.98439        12.23805        0.00034   \n",
              "\n",
              "   MedianF_Beta_F4  ...  MeanP_Delta_O2  MedianF_Delta_O2  MeanF_Delta_O2  \\\n",
              "0         17.73268  ...         0.00112           0.74927         6.36878   \n",
              "1         16.85854  ...         0.00070           0.99902         6.86829   \n",
              "2         17.35805  ...         0.00077           1.49854         6.49366   \n",
              "3         14.61073  ...         0.00082           0.87415         7.49268   \n",
              "4         15.11024  ...         0.00084           0.87415         6.86829   \n",
              "\n",
              "   SpectralEdge_Delta_O2  PeakF_Delta_O2  MeanP_Gamma_O2  MedianF_Gamma_O2  \\\n",
              "0                2.87220         0.62439        0.000076          32.71805   \n",
              "1                3.62146         0.74927        0.000072          32.09366   \n",
              "2                4.12098         0.74927        0.000069          33.09268   \n",
              "3                3.49659         0.87415        0.000039          28.34732   \n",
              "4                2.87220         0.62439        0.000032          28.97171   \n",
              "\n",
              "   MeanF_Gamma_O2  SpectralEdge_Gamma_O2  PeakF_Gamma_O2  \n",
              "0        43.83220               49.95122        49.95122  \n",
              "1        44.33171               49.95122        49.95122  \n",
              "2        43.95707               49.95122        49.95122  \n",
              "3        43.08293               49.95122        49.95122  \n",
              "4        43.20780               49.95122        49.95122  \n",
              "\n",
              "[5 rows x 78 columns]"
            ],
            "text/html": [
              "\n",
              "  <div id=\"df-e8e40db0-e9c0-40bf-a96f-858ba0b690a9\" class=\"colab-df-container\">\n",
              "    <div>\n",
              "<style scoped>\n",
              "    .dataframe tbody tr th:only-of-type {\n",
              "        vertical-align: middle;\n",
              "    }\n",
              "\n",
              "    .dataframe tbody tr th {\n",
              "        vertical-align: top;\n",
              "    }\n",
              "\n",
              "    .dataframe thead th {\n",
              "        text-align: right;\n",
              "    }\n",
              "</style>\n",
              "<table border=\"1\" class=\"dataframe\">\n",
              "  <thead>\n",
              "    <tr style=\"text-align: right;\">\n",
              "      <th></th>\n",
              "      <th>Subject</th>\n",
              "      <th>Sleep_Stage</th>\n",
              "      <th>Epoch</th>\n",
              "      <th>MeanP_Alpha_F4</th>\n",
              "      <th>MedianF_Alpha_F4</th>\n",
              "      <th>MeanF_Alpha_F4</th>\n",
              "      <th>SpectralEdge_Alpha_F4</th>\n",
              "      <th>PeakF_Alpha_F4</th>\n",
              "      <th>MeanP_Beta_F4</th>\n",
              "      <th>MedianF_Beta_F4</th>\n",
              "      <th>...</th>\n",
              "      <th>MeanP_Delta_O2</th>\n",
              "      <th>MedianF_Delta_O2</th>\n",
              "      <th>MeanF_Delta_O2</th>\n",
              "      <th>SpectralEdge_Delta_O2</th>\n",
              "      <th>PeakF_Delta_O2</th>\n",
              "      <th>MeanP_Gamma_O2</th>\n",
              "      <th>MedianF_Gamma_O2</th>\n",
              "      <th>MeanF_Gamma_O2</th>\n",
              "      <th>SpectralEdge_Gamma_O2</th>\n",
              "      <th>PeakF_Gamma_O2</th>\n",
              "    </tr>\n",
              "  </thead>\n",
              "  <tbody>\n",
              "    <tr>\n",
              "      <th>0</th>\n",
              "      <td>SN002</td>\n",
              "      <td>N1</td>\n",
              "      <td>6</td>\n",
              "      <td>0.00034</td>\n",
              "      <td>10.11512</td>\n",
              "      <td>17.85756</td>\n",
              "      <td>17.48293</td>\n",
              "      <td>10.24000</td>\n",
              "      <td>0.00047</td>\n",
              "      <td>17.73268</td>\n",
              "      <td>...</td>\n",
              "      <td>0.00112</td>\n",
              "      <td>0.74927</td>\n",
              "      <td>6.36878</td>\n",
              "      <td>2.87220</td>\n",
              "      <td>0.62439</td>\n",
              "      <td>0.000076</td>\n",
              "      <td>32.71805</td>\n",
              "      <td>43.83220</td>\n",
              "      <td>49.95122</td>\n",
              "      <td>49.95122</td>\n",
              "    </tr>\n",
              "    <tr>\n",
              "      <th>1</th>\n",
              "      <td>SN002</td>\n",
              "      <td>N1</td>\n",
              "      <td>7</td>\n",
              "      <td>0.00035</td>\n",
              "      <td>10.73951</td>\n",
              "      <td>17.60780</td>\n",
              "      <td>17.10829</td>\n",
              "      <td>9.11610</td>\n",
              "      <td>0.00048</td>\n",
              "      <td>16.85854</td>\n",
              "      <td>...</td>\n",
              "      <td>0.00070</td>\n",
              "      <td>0.99902</td>\n",
              "      <td>6.86829</td>\n",
              "      <td>3.62146</td>\n",
              "      <td>0.74927</td>\n",
              "      <td>0.000072</td>\n",
              "      <td>32.09366</td>\n",
              "      <td>44.33171</td>\n",
              "      <td>49.95122</td>\n",
              "      <td>49.95122</td>\n",
              "    </tr>\n",
              "    <tr>\n",
              "      <th>2</th>\n",
              "      <td>SN002</td>\n",
              "      <td>N1</td>\n",
              "      <td>8</td>\n",
              "      <td>0.00035</td>\n",
              "      <td>9.36585</td>\n",
              "      <td>17.60780</td>\n",
              "      <td>16.98341</td>\n",
              "      <td>9.24098</td>\n",
              "      <td>0.00042</td>\n",
              "      <td>17.35805</td>\n",
              "      <td>...</td>\n",
              "      <td>0.00077</td>\n",
              "      <td>1.49854</td>\n",
              "      <td>6.49366</td>\n",
              "      <td>4.12098</td>\n",
              "      <td>0.74927</td>\n",
              "      <td>0.000069</td>\n",
              "      <td>33.09268</td>\n",
              "      <td>43.95707</td>\n",
              "      <td>49.95122</td>\n",
              "      <td>49.95122</td>\n",
              "    </tr>\n",
              "    <tr>\n",
              "      <th>3</th>\n",
              "      <td>SN002</td>\n",
              "      <td>N1</td>\n",
              "      <td>116</td>\n",
              "      <td>0.00054</td>\n",
              "      <td>9.74049</td>\n",
              "      <td>15.98439</td>\n",
              "      <td>15.48488</td>\n",
              "      <td>8.36683</td>\n",
              "      <td>0.00051</td>\n",
              "      <td>14.61073</td>\n",
              "      <td>...</td>\n",
              "      <td>0.00082</td>\n",
              "      <td>0.87415</td>\n",
              "      <td>7.49268</td>\n",
              "      <td>3.49659</td>\n",
              "      <td>0.87415</td>\n",
              "      <td>0.000039</td>\n",
              "      <td>28.34732</td>\n",
              "      <td>43.08293</td>\n",
              "      <td>49.95122</td>\n",
              "      <td>49.95122</td>\n",
              "    </tr>\n",
              "    <tr>\n",
              "      <th>4</th>\n",
              "      <td>SN002</td>\n",
              "      <td>N1</td>\n",
              "      <td>117</td>\n",
              "      <td>0.00034</td>\n",
              "      <td>10.11512</td>\n",
              "      <td>16.48390</td>\n",
              "      <td>15.98439</td>\n",
              "      <td>12.23805</td>\n",
              "      <td>0.00034</td>\n",
              "      <td>15.11024</td>\n",
              "      <td>...</td>\n",
              "      <td>0.00084</td>\n",
              "      <td>0.87415</td>\n",
              "      <td>6.86829</td>\n",
              "      <td>2.87220</td>\n",
              "      <td>0.62439</td>\n",
              "      <td>0.000032</td>\n",
              "      <td>28.97171</td>\n",
              "      <td>43.20780</td>\n",
              "      <td>49.95122</td>\n",
              "      <td>49.95122</td>\n",
              "    </tr>\n",
              "  </tbody>\n",
              "</table>\n",
              "<p>5 rows × 78 columns</p>\n",
              "</div>\n",
              "    <div class=\"colab-df-buttons\">\n",
              "\n",
              "  <div class=\"colab-df-container\">\n",
              "    <button class=\"colab-df-convert\" onclick=\"convertToInteractive('df-e8e40db0-e9c0-40bf-a96f-858ba0b690a9')\"\n",
              "            title=\"Convert this dataframe to an interactive table.\"\n",
              "            style=\"display:none;\">\n",
              "\n",
              "  <svg xmlns=\"http://www.w3.org/2000/svg\" height=\"24px\" viewBox=\"0 -960 960 960\">\n",
              "    <path d=\"M120-120v-720h720v720H120Zm60-500h600v-160H180v160Zm220 220h160v-160H400v160Zm0 220h160v-160H400v160ZM180-400h160v-160H180v160Zm440 0h160v-160H620v160ZM180-180h160v-160H180v160Zm440 0h160v-160H620v160Z\"/>\n",
              "  </svg>\n",
              "    </button>\n",
              "\n",
              "  <style>\n",
              "    .colab-df-container {\n",
              "      display:flex;\n",
              "      gap: 12px;\n",
              "    }\n",
              "\n",
              "    .colab-df-convert {\n",
              "      background-color: #E8F0FE;\n",
              "      border: none;\n",
              "      border-radius: 50%;\n",
              "      cursor: pointer;\n",
              "      display: none;\n",
              "      fill: #1967D2;\n",
              "      height: 32px;\n",
              "      padding: 0 0 0 0;\n",
              "      width: 32px;\n",
              "    }\n",
              "\n",
              "    .colab-df-convert:hover {\n",
              "      background-color: #E2EBFA;\n",
              "      box-shadow: 0px 1px 2px rgba(60, 64, 67, 0.3), 0px 1px 3px 1px rgba(60, 64, 67, 0.15);\n",
              "      fill: #174EA6;\n",
              "    }\n",
              "\n",
              "    .colab-df-buttons div {\n",
              "      margin-bottom: 4px;\n",
              "    }\n",
              "\n",
              "    [theme=dark] .colab-df-convert {\n",
              "      background-color: #3B4455;\n",
              "      fill: #D2E3FC;\n",
              "    }\n",
              "\n",
              "    [theme=dark] .colab-df-convert:hover {\n",
              "      background-color: #434B5C;\n",
              "      box-shadow: 0px 1px 3px 1px rgba(0, 0, 0, 0.15);\n",
              "      filter: drop-shadow(0px 1px 2px rgba(0, 0, 0, 0.3));\n",
              "      fill: #FFFFFF;\n",
              "    }\n",
              "  </style>\n",
              "\n",
              "    <script>\n",
              "      const buttonEl =\n",
              "        document.querySelector('#df-e8e40db0-e9c0-40bf-a96f-858ba0b690a9 button.colab-df-convert');\n",
              "      buttonEl.style.display =\n",
              "        google.colab.kernel.accessAllowed ? 'block' : 'none';\n",
              "\n",
              "      async function convertToInteractive(key) {\n",
              "        const element = document.querySelector('#df-e8e40db0-e9c0-40bf-a96f-858ba0b690a9');\n",
              "        const dataTable =\n",
              "          await google.colab.kernel.invokeFunction('convertToInteractive',\n",
              "                                                    [key], {});\n",
              "        if (!dataTable) return;\n",
              "\n",
              "        const docLinkHtml = 'Like what you see? Visit the ' +\n",
              "          '<a target=\"_blank\" href=https://colab.research.google.com/notebooks/data_table.ipynb>data table notebook</a>'\n",
              "          + ' to learn more about interactive tables.';\n",
              "        element.innerHTML = '';\n",
              "        dataTable['output_type'] = 'display_data';\n",
              "        await google.colab.output.renderOutput(dataTable, element);\n",
              "        const docLink = document.createElement('div');\n",
              "        docLink.innerHTML = docLinkHtml;\n",
              "        element.appendChild(docLink);\n",
              "      }\n",
              "    </script>\n",
              "  </div>\n",
              "\n",
              "\n",
              "<div id=\"df-db89680d-ac01-43d8-98b8-406d60ffd438\">\n",
              "  <button class=\"colab-df-quickchart\" onclick=\"quickchart('df-db89680d-ac01-43d8-98b8-406d60ffd438')\"\n",
              "            title=\"Suggest charts.\"\n",
              "            style=\"display:none;\">\n",
              "\n",
              "<svg xmlns=\"http://www.w3.org/2000/svg\" height=\"24px\"viewBox=\"0 0 24 24\"\n",
              "     width=\"24px\">\n",
              "    <g>\n",
              "        <path d=\"M19 3H5c-1.1 0-2 .9-2 2v14c0 1.1.9 2 2 2h14c1.1 0 2-.9 2-2V5c0-1.1-.9-2-2-2zM9 17H7v-7h2v7zm4 0h-2V7h2v10zm4 0h-2v-4h2v4z\"/>\n",
              "    </g>\n",
              "</svg>\n",
              "  </button>\n",
              "\n",
              "<style>\n",
              "  .colab-df-quickchart {\n",
              "      --bg-color: #E8F0FE;\n",
              "      --fill-color: #1967D2;\n",
              "      --hover-bg-color: #E2EBFA;\n",
              "      --hover-fill-color: #174EA6;\n",
              "      --disabled-fill-color: #AAA;\n",
              "      --disabled-bg-color: #DDD;\n",
              "  }\n",
              "\n",
              "  [theme=dark] .colab-df-quickchart {\n",
              "      --bg-color: #3B4455;\n",
              "      --fill-color: #D2E3FC;\n",
              "      --hover-bg-color: #434B5C;\n",
              "      --hover-fill-color: #FFFFFF;\n",
              "      --disabled-bg-color: #3B4455;\n",
              "      --disabled-fill-color: #666;\n",
              "  }\n",
              "\n",
              "  .colab-df-quickchart {\n",
              "    background-color: var(--bg-color);\n",
              "    border: none;\n",
              "    border-radius: 50%;\n",
              "    cursor: pointer;\n",
              "    display: none;\n",
              "    fill: var(--fill-color);\n",
              "    height: 32px;\n",
              "    padding: 0;\n",
              "    width: 32px;\n",
              "  }\n",
              "\n",
              "  .colab-df-quickchart:hover {\n",
              "    background-color: var(--hover-bg-color);\n",
              "    box-shadow: 0 1px 2px rgba(60, 64, 67, 0.3), 0 1px 3px 1px rgba(60, 64, 67, 0.15);\n",
              "    fill: var(--button-hover-fill-color);\n",
              "  }\n",
              "\n",
              "  .colab-df-quickchart-complete:disabled,\n",
              "  .colab-df-quickchart-complete:disabled:hover {\n",
              "    background-color: var(--disabled-bg-color);\n",
              "    fill: var(--disabled-fill-color);\n",
              "    box-shadow: none;\n",
              "  }\n",
              "\n",
              "  .colab-df-spinner {\n",
              "    border: 2px solid var(--fill-color);\n",
              "    border-color: transparent;\n",
              "    border-bottom-color: var(--fill-color);\n",
              "    animation:\n",
              "      spin 1s steps(1) infinite;\n",
              "  }\n",
              "\n",
              "  @keyframes spin {\n",
              "    0% {\n",
              "      border-color: transparent;\n",
              "      border-bottom-color: var(--fill-color);\n",
              "      border-left-color: var(--fill-color);\n",
              "    }\n",
              "    20% {\n",
              "      border-color: transparent;\n",
              "      border-left-color: var(--fill-color);\n",
              "      border-top-color: var(--fill-color);\n",
              "    }\n",
              "    30% {\n",
              "      border-color: transparent;\n",
              "      border-left-color: var(--fill-color);\n",
              "      border-top-color: var(--fill-color);\n",
              "      border-right-color: var(--fill-color);\n",
              "    }\n",
              "    40% {\n",
              "      border-color: transparent;\n",
              "      border-right-color: var(--fill-color);\n",
              "      border-top-color: var(--fill-color);\n",
              "    }\n",
              "    60% {\n",
              "      border-color: transparent;\n",
              "      border-right-color: var(--fill-color);\n",
              "    }\n",
              "    80% {\n",
              "      border-color: transparent;\n",
              "      border-right-color: var(--fill-color);\n",
              "      border-bottom-color: var(--fill-color);\n",
              "    }\n",
              "    90% {\n",
              "      border-color: transparent;\n",
              "      border-bottom-color: var(--fill-color);\n",
              "    }\n",
              "  }\n",
              "</style>\n",
              "\n",
              "  <script>\n",
              "    async function quickchart(key) {\n",
              "      const quickchartButtonEl =\n",
              "        document.querySelector('#' + key + ' button');\n",
              "      quickchartButtonEl.disabled = true;  // To prevent multiple clicks.\n",
              "      quickchartButtonEl.classList.add('colab-df-spinner');\n",
              "      try {\n",
              "        const charts = await google.colab.kernel.invokeFunction(\n",
              "            'suggestCharts', [key], {});\n",
              "      } catch (error) {\n",
              "        console.error('Error during call to suggestCharts:', error);\n",
              "      }\n",
              "      quickchartButtonEl.classList.remove('colab-df-spinner');\n",
              "      quickchartButtonEl.classList.add('colab-df-quickchart-complete');\n",
              "    }\n",
              "    (() => {\n",
              "      let quickchartButtonEl =\n",
              "        document.querySelector('#df-db89680d-ac01-43d8-98b8-406d60ffd438 button');\n",
              "      quickchartButtonEl.style.display =\n",
              "        google.colab.kernel.accessAllowed ? 'block' : 'none';\n",
              "    })();\n",
              "  </script>\n",
              "</div>\n",
              "    </div>\n",
              "  </div>\n"
            ]
          },
          "metadata": {},
          "execution_count": 7
        }
      ]
    },
    {
      "cell_type": "code",
      "source": [
        "df.shape"
      ],
      "metadata": {
        "colab": {
          "base_uri": "https://localhost:8080/"
        },
        "id": "oq1IT9rnpZa4",
        "outputId": "b022be3e-7f6a-47ee-f9de-0dac5ed9aa37"
      },
      "execution_count": 8,
      "outputs": [
        {
          "output_type": "execute_result",
          "data": {
            "text/plain": [
              "(108451, 78)"
            ]
          },
          "metadata": {},
          "execution_count": 8
        }
      ]
    },
    {
      "cell_type": "code",
      "source": [
        "df = df.loc[:,df.columns != \"Subject\"]\n",
        "df = df.loc[:,df.columns != \"Epoch\"]"
      ],
      "metadata": {
        "id": "0_nz59wDxyXH"
      },
      "execution_count": 9,
      "outputs": []
    },
    {
      "cell_type": "code",
      "source": [
        "df"
      ],
      "metadata": {
        "colab": {
          "base_uri": "https://localhost:8080/",
          "height": 433
        },
        "id": "T115XnQWyeZQ",
        "outputId": "907859eb-cbba-4cfd-8478-78d1ac5787a6"
      },
      "execution_count": 10,
      "outputs": [
        {
          "output_type": "execute_result",
          "data": {
            "text/plain": [
              "       Sleep_Stage  MeanP_Alpha_F4  MedianF_Alpha_F4  MeanF_Alpha_F4  \\\n",
              "0               N1         0.00034          10.11512        17.85756   \n",
              "1               N1         0.00035          10.73951        17.60780   \n",
              "2               N1         0.00035           9.36585        17.60780   \n",
              "3               N1         0.00054           9.74049        15.98439   \n",
              "4               N1         0.00034          10.11512        16.48390   \n",
              "...            ...             ...               ...             ...   \n",
              "108446           W         0.00042           9.99024        17.10829   \n",
              "108447           W         0.00033          10.48976        16.60878   \n",
              "108448           W         0.00064          10.48976        18.73171   \n",
              "108449           W         0.00051          10.11512        17.85756   \n",
              "108450           W         0.00128          10.61463        21.47902   \n",
              "\n",
              "        SpectralEdge_Alpha_F4  PeakF_Alpha_F4  MeanP_Beta_F4  MedianF_Beta_F4  \\\n",
              "0                    17.48293        10.24000        0.00047         17.73268   \n",
              "1                    17.10829         9.11610        0.00048         16.85854   \n",
              "2                    16.98341         9.24098        0.00042         17.35805   \n",
              "3                    15.48488         8.36683        0.00051         14.61073   \n",
              "4                    15.98439        12.23805        0.00034         15.11024   \n",
              "...                       ...             ...            ...              ...   \n",
              "108446               16.35902         7.49268        0.00050         16.85854   \n",
              "108447               16.10927         8.86634        0.00038         15.73463   \n",
              "108448               18.48195         8.86634        0.00106         19.73073   \n",
              "108449               17.48293        11.61366        0.00075         19.73073   \n",
              "108450               21.35415         8.24195        0.00304         23.22732   \n",
              "\n",
              "        MeanF_Beta_F4  SpectralEdge_Beta_F4  ...  MeanP_Delta_O2  \\\n",
              "0            25.35024              27.47317  ...         0.00112   \n",
              "1            25.22537              26.97366  ...         0.00070   \n",
              "2            26.09951              28.47220  ...         0.00077   \n",
              "3            21.72878              22.47805  ...         0.00082   \n",
              "4            22.10341              23.47707  ...         0.00084   \n",
              "...               ...                   ...  ...             ...   \n",
              "108446       26.22439              28.34732  ...         0.00070   \n",
              "108447       24.35122              26.09951  ...         0.00106   \n",
              "108448       29.09659              32.46829  ...         0.00106   \n",
              "108449       29.72098              32.96780  ...         0.00508   \n",
              "108450       33.21756              38.08780  ...         0.02494   \n",
              "\n",
              "        MedianF_Delta_O2  MeanF_Delta_O2  SpectralEdge_Delta_O2  \\\n",
              "0                0.74927         6.36878                2.87220   \n",
              "1                0.99902         6.86829                3.62146   \n",
              "2                1.49854         6.49366                4.12098   \n",
              "3                0.87415         7.49268                3.49659   \n",
              "4                0.87415         6.86829                2.87220   \n",
              "...                  ...             ...                    ...   \n",
              "108446           1.12390         8.11707                4.99512   \n",
              "108447           0.99902         6.86829                3.62146   \n",
              "108448           0.74927         8.74146                4.12098   \n",
              "108449           0.87415         5.36976                1.99805   \n",
              "108450           0.87415         4.49561                2.12293   \n",
              "\n",
              "        PeakF_Delta_O2  MeanP_Gamma_O2  MedianF_Gamma_O2  MeanF_Gamma_O2  \\\n",
              "0              0.62439        0.000076          32.71805        43.83220   \n",
              "1              0.74927        0.000072          32.09366        44.33171   \n",
              "2              0.74927        0.000069          33.09268        43.95707   \n",
              "3              0.87415        0.000039          28.34732        43.08293   \n",
              "4              0.62439        0.000032          28.97171        43.20780   \n",
              "...                ...             ...               ...             ...   \n",
              "108446         0.49951        0.000098          32.46829        39.83610   \n",
              "108447         0.74927        0.000053          28.59707        37.46341   \n",
              "108448         0.37463        0.000320          34.21659        41.33463   \n",
              "108449         0.99902        0.000240          35.71512        41.83415   \n",
              "108450         0.49951        0.001630          37.96293        43.33268   \n",
              "\n",
              "        SpectralEdge_Gamma_O2  PeakF_Gamma_O2  \n",
              "0                    49.95122        49.95122  \n",
              "1                    49.95122        49.95122  \n",
              "2                    49.95122        49.95122  \n",
              "3                    49.95122        49.95122  \n",
              "4                    49.95122        49.95122  \n",
              "...                       ...             ...  \n",
              "108446               47.45366        36.83902  \n",
              "108447               44.33171        27.59805  \n",
              "108448               50.07610        30.34537  \n",
              "108449               50.70049        38.21268  \n",
              "108450               52.32390        38.08780  \n",
              "\n",
              "[108451 rows x 76 columns]"
            ],
            "text/html": [
              "\n",
              "  <div id=\"df-da4cb322-c0fe-4046-9359-1ec9c97a3712\" class=\"colab-df-container\">\n",
              "    <div>\n",
              "<style scoped>\n",
              "    .dataframe tbody tr th:only-of-type {\n",
              "        vertical-align: middle;\n",
              "    }\n",
              "\n",
              "    .dataframe tbody tr th {\n",
              "        vertical-align: top;\n",
              "    }\n",
              "\n",
              "    .dataframe thead th {\n",
              "        text-align: right;\n",
              "    }\n",
              "</style>\n",
              "<table border=\"1\" class=\"dataframe\">\n",
              "  <thead>\n",
              "    <tr style=\"text-align: right;\">\n",
              "      <th></th>\n",
              "      <th>Sleep_Stage</th>\n",
              "      <th>MeanP_Alpha_F4</th>\n",
              "      <th>MedianF_Alpha_F4</th>\n",
              "      <th>MeanF_Alpha_F4</th>\n",
              "      <th>SpectralEdge_Alpha_F4</th>\n",
              "      <th>PeakF_Alpha_F4</th>\n",
              "      <th>MeanP_Beta_F4</th>\n",
              "      <th>MedianF_Beta_F4</th>\n",
              "      <th>MeanF_Beta_F4</th>\n",
              "      <th>SpectralEdge_Beta_F4</th>\n",
              "      <th>...</th>\n",
              "      <th>MeanP_Delta_O2</th>\n",
              "      <th>MedianF_Delta_O2</th>\n",
              "      <th>MeanF_Delta_O2</th>\n",
              "      <th>SpectralEdge_Delta_O2</th>\n",
              "      <th>PeakF_Delta_O2</th>\n",
              "      <th>MeanP_Gamma_O2</th>\n",
              "      <th>MedianF_Gamma_O2</th>\n",
              "      <th>MeanF_Gamma_O2</th>\n",
              "      <th>SpectralEdge_Gamma_O2</th>\n",
              "      <th>PeakF_Gamma_O2</th>\n",
              "    </tr>\n",
              "  </thead>\n",
              "  <tbody>\n",
              "    <tr>\n",
              "      <th>0</th>\n",
              "      <td>N1</td>\n",
              "      <td>0.00034</td>\n",
              "      <td>10.11512</td>\n",
              "      <td>17.85756</td>\n",
              "      <td>17.48293</td>\n",
              "      <td>10.24000</td>\n",
              "      <td>0.00047</td>\n",
              "      <td>17.73268</td>\n",
              "      <td>25.35024</td>\n",
              "      <td>27.47317</td>\n",
              "      <td>...</td>\n",
              "      <td>0.00112</td>\n",
              "      <td>0.74927</td>\n",
              "      <td>6.36878</td>\n",
              "      <td>2.87220</td>\n",
              "      <td>0.62439</td>\n",
              "      <td>0.000076</td>\n",
              "      <td>32.71805</td>\n",
              "      <td>43.83220</td>\n",
              "      <td>49.95122</td>\n",
              "      <td>49.95122</td>\n",
              "    </tr>\n",
              "    <tr>\n",
              "      <th>1</th>\n",
              "      <td>N1</td>\n",
              "      <td>0.00035</td>\n",
              "      <td>10.73951</td>\n",
              "      <td>17.60780</td>\n",
              "      <td>17.10829</td>\n",
              "      <td>9.11610</td>\n",
              "      <td>0.00048</td>\n",
              "      <td>16.85854</td>\n",
              "      <td>25.22537</td>\n",
              "      <td>26.97366</td>\n",
              "      <td>...</td>\n",
              "      <td>0.00070</td>\n",
              "      <td>0.99902</td>\n",
              "      <td>6.86829</td>\n",
              "      <td>3.62146</td>\n",
              "      <td>0.74927</td>\n",
              "      <td>0.000072</td>\n",
              "      <td>32.09366</td>\n",
              "      <td>44.33171</td>\n",
              "      <td>49.95122</td>\n",
              "      <td>49.95122</td>\n",
              "    </tr>\n",
              "    <tr>\n",
              "      <th>2</th>\n",
              "      <td>N1</td>\n",
              "      <td>0.00035</td>\n",
              "      <td>9.36585</td>\n",
              "      <td>17.60780</td>\n",
              "      <td>16.98341</td>\n",
              "      <td>9.24098</td>\n",
              "      <td>0.00042</td>\n",
              "      <td>17.35805</td>\n",
              "      <td>26.09951</td>\n",
              "      <td>28.47220</td>\n",
              "      <td>...</td>\n",
              "      <td>0.00077</td>\n",
              "      <td>1.49854</td>\n",
              "      <td>6.49366</td>\n",
              "      <td>4.12098</td>\n",
              "      <td>0.74927</td>\n",
              "      <td>0.000069</td>\n",
              "      <td>33.09268</td>\n",
              "      <td>43.95707</td>\n",
              "      <td>49.95122</td>\n",
              "      <td>49.95122</td>\n",
              "    </tr>\n",
              "    <tr>\n",
              "      <th>3</th>\n",
              "      <td>N1</td>\n",
              "      <td>0.00054</td>\n",
              "      <td>9.74049</td>\n",
              "      <td>15.98439</td>\n",
              "      <td>15.48488</td>\n",
              "      <td>8.36683</td>\n",
              "      <td>0.00051</td>\n",
              "      <td>14.61073</td>\n",
              "      <td>21.72878</td>\n",
              "      <td>22.47805</td>\n",
              "      <td>...</td>\n",
              "      <td>0.00082</td>\n",
              "      <td>0.87415</td>\n",
              "      <td>7.49268</td>\n",
              "      <td>3.49659</td>\n",
              "      <td>0.87415</td>\n",
              "      <td>0.000039</td>\n",
              "      <td>28.34732</td>\n",
              "      <td>43.08293</td>\n",
              "      <td>49.95122</td>\n",
              "      <td>49.95122</td>\n",
              "    </tr>\n",
              "    <tr>\n",
              "      <th>4</th>\n",
              "      <td>N1</td>\n",
              "      <td>0.00034</td>\n",
              "      <td>10.11512</td>\n",
              "      <td>16.48390</td>\n",
              "      <td>15.98439</td>\n",
              "      <td>12.23805</td>\n",
              "      <td>0.00034</td>\n",
              "      <td>15.11024</td>\n",
              "      <td>22.10341</td>\n",
              "      <td>23.47707</td>\n",
              "      <td>...</td>\n",
              "      <td>0.00084</td>\n",
              "      <td>0.87415</td>\n",
              "      <td>6.86829</td>\n",
              "      <td>2.87220</td>\n",
              "      <td>0.62439</td>\n",
              "      <td>0.000032</td>\n",
              "      <td>28.97171</td>\n",
              "      <td>43.20780</td>\n",
              "      <td>49.95122</td>\n",
              "      <td>49.95122</td>\n",
              "    </tr>\n",
              "    <tr>\n",
              "      <th>...</th>\n",
              "      <td>...</td>\n",
              "      <td>...</td>\n",
              "      <td>...</td>\n",
              "      <td>...</td>\n",
              "      <td>...</td>\n",
              "      <td>...</td>\n",
              "      <td>...</td>\n",
              "      <td>...</td>\n",
              "      <td>...</td>\n",
              "      <td>...</td>\n",
              "      <td>...</td>\n",
              "      <td>...</td>\n",
              "      <td>...</td>\n",
              "      <td>...</td>\n",
              "      <td>...</td>\n",
              "      <td>...</td>\n",
              "      <td>...</td>\n",
              "      <td>...</td>\n",
              "      <td>...</td>\n",
              "      <td>...</td>\n",
              "      <td>...</td>\n",
              "    </tr>\n",
              "    <tr>\n",
              "      <th>108446</th>\n",
              "      <td>W</td>\n",
              "      <td>0.00042</td>\n",
              "      <td>9.99024</td>\n",
              "      <td>17.10829</td>\n",
              "      <td>16.35902</td>\n",
              "      <td>7.49268</td>\n",
              "      <td>0.00050</td>\n",
              "      <td>16.85854</td>\n",
              "      <td>26.22439</td>\n",
              "      <td>28.34732</td>\n",
              "      <td>...</td>\n",
              "      <td>0.00070</td>\n",
              "      <td>1.12390</td>\n",
              "      <td>8.11707</td>\n",
              "      <td>4.99512</td>\n",
              "      <td>0.49951</td>\n",
              "      <td>0.000098</td>\n",
              "      <td>32.46829</td>\n",
              "      <td>39.83610</td>\n",
              "      <td>47.45366</td>\n",
              "      <td>36.83902</td>\n",
              "    </tr>\n",
              "    <tr>\n",
              "      <th>108447</th>\n",
              "      <td>W</td>\n",
              "      <td>0.00033</td>\n",
              "      <td>10.48976</td>\n",
              "      <td>16.60878</td>\n",
              "      <td>16.10927</td>\n",
              "      <td>8.86634</td>\n",
              "      <td>0.00038</td>\n",
              "      <td>15.73463</td>\n",
              "      <td>24.35122</td>\n",
              "      <td>26.09951</td>\n",
              "      <td>...</td>\n",
              "      <td>0.00106</td>\n",
              "      <td>0.99902</td>\n",
              "      <td>6.86829</td>\n",
              "      <td>3.62146</td>\n",
              "      <td>0.74927</td>\n",
              "      <td>0.000053</td>\n",
              "      <td>28.59707</td>\n",
              "      <td>37.46341</td>\n",
              "      <td>44.33171</td>\n",
              "      <td>27.59805</td>\n",
              "    </tr>\n",
              "    <tr>\n",
              "      <th>108448</th>\n",
              "      <td>W</td>\n",
              "      <td>0.00064</td>\n",
              "      <td>10.48976</td>\n",
              "      <td>18.73171</td>\n",
              "      <td>18.48195</td>\n",
              "      <td>8.86634</td>\n",
              "      <td>0.00106</td>\n",
              "      <td>19.73073</td>\n",
              "      <td>29.09659</td>\n",
              "      <td>32.46829</td>\n",
              "      <td>...</td>\n",
              "      <td>0.00106</td>\n",
              "      <td>0.74927</td>\n",
              "      <td>8.74146</td>\n",
              "      <td>4.12098</td>\n",
              "      <td>0.37463</td>\n",
              "      <td>0.000320</td>\n",
              "      <td>34.21659</td>\n",
              "      <td>41.33463</td>\n",
              "      <td>50.07610</td>\n",
              "      <td>30.34537</td>\n",
              "    </tr>\n",
              "    <tr>\n",
              "      <th>108449</th>\n",
              "      <td>W</td>\n",
              "      <td>0.00051</td>\n",
              "      <td>10.11512</td>\n",
              "      <td>17.85756</td>\n",
              "      <td>17.48293</td>\n",
              "      <td>11.61366</td>\n",
              "      <td>0.00075</td>\n",
              "      <td>19.73073</td>\n",
              "      <td>29.72098</td>\n",
              "      <td>32.96780</td>\n",
              "      <td>...</td>\n",
              "      <td>0.00508</td>\n",
              "      <td>0.87415</td>\n",
              "      <td>5.36976</td>\n",
              "      <td>1.99805</td>\n",
              "      <td>0.99902</td>\n",
              "      <td>0.000240</td>\n",
              "      <td>35.71512</td>\n",
              "      <td>41.83415</td>\n",
              "      <td>50.70049</td>\n",
              "      <td>38.21268</td>\n",
              "    </tr>\n",
              "    <tr>\n",
              "      <th>108450</th>\n",
              "      <td>W</td>\n",
              "      <td>0.00128</td>\n",
              "      <td>10.61463</td>\n",
              "      <td>21.47902</td>\n",
              "      <td>21.35415</td>\n",
              "      <td>8.24195</td>\n",
              "      <td>0.00304</td>\n",
              "      <td>23.22732</td>\n",
              "      <td>33.21756</td>\n",
              "      <td>38.08780</td>\n",
              "      <td>...</td>\n",
              "      <td>0.02494</td>\n",
              "      <td>0.87415</td>\n",
              "      <td>4.49561</td>\n",
              "      <td>2.12293</td>\n",
              "      <td>0.49951</td>\n",
              "      <td>0.001630</td>\n",
              "      <td>37.96293</td>\n",
              "      <td>43.33268</td>\n",
              "      <td>52.32390</td>\n",
              "      <td>38.08780</td>\n",
              "    </tr>\n",
              "  </tbody>\n",
              "</table>\n",
              "<p>108451 rows × 76 columns</p>\n",
              "</div>\n",
              "    <div class=\"colab-df-buttons\">\n",
              "\n",
              "  <div class=\"colab-df-container\">\n",
              "    <button class=\"colab-df-convert\" onclick=\"convertToInteractive('df-da4cb322-c0fe-4046-9359-1ec9c97a3712')\"\n",
              "            title=\"Convert this dataframe to an interactive table.\"\n",
              "            style=\"display:none;\">\n",
              "\n",
              "  <svg xmlns=\"http://www.w3.org/2000/svg\" height=\"24px\" viewBox=\"0 -960 960 960\">\n",
              "    <path d=\"M120-120v-720h720v720H120Zm60-500h600v-160H180v160Zm220 220h160v-160H400v160Zm0 220h160v-160H400v160ZM180-400h160v-160H180v160Zm440 0h160v-160H620v160ZM180-180h160v-160H180v160Zm440 0h160v-160H620v160Z\"/>\n",
              "  </svg>\n",
              "    </button>\n",
              "\n",
              "  <style>\n",
              "    .colab-df-container {\n",
              "      display:flex;\n",
              "      gap: 12px;\n",
              "    }\n",
              "\n",
              "    .colab-df-convert {\n",
              "      background-color: #E8F0FE;\n",
              "      border: none;\n",
              "      border-radius: 50%;\n",
              "      cursor: pointer;\n",
              "      display: none;\n",
              "      fill: #1967D2;\n",
              "      height: 32px;\n",
              "      padding: 0 0 0 0;\n",
              "      width: 32px;\n",
              "    }\n",
              "\n",
              "    .colab-df-convert:hover {\n",
              "      background-color: #E2EBFA;\n",
              "      box-shadow: 0px 1px 2px rgba(60, 64, 67, 0.3), 0px 1px 3px 1px rgba(60, 64, 67, 0.15);\n",
              "      fill: #174EA6;\n",
              "    }\n",
              "\n",
              "    .colab-df-buttons div {\n",
              "      margin-bottom: 4px;\n",
              "    }\n",
              "\n",
              "    [theme=dark] .colab-df-convert {\n",
              "      background-color: #3B4455;\n",
              "      fill: #D2E3FC;\n",
              "    }\n",
              "\n",
              "    [theme=dark] .colab-df-convert:hover {\n",
              "      background-color: #434B5C;\n",
              "      box-shadow: 0px 1px 3px 1px rgba(0, 0, 0, 0.15);\n",
              "      filter: drop-shadow(0px 1px 2px rgba(0, 0, 0, 0.3));\n",
              "      fill: #FFFFFF;\n",
              "    }\n",
              "  </style>\n",
              "\n",
              "    <script>\n",
              "      const buttonEl =\n",
              "        document.querySelector('#df-da4cb322-c0fe-4046-9359-1ec9c97a3712 button.colab-df-convert');\n",
              "      buttonEl.style.display =\n",
              "        google.colab.kernel.accessAllowed ? 'block' : 'none';\n",
              "\n",
              "      async function convertToInteractive(key) {\n",
              "        const element = document.querySelector('#df-da4cb322-c0fe-4046-9359-1ec9c97a3712');\n",
              "        const dataTable =\n",
              "          await google.colab.kernel.invokeFunction('convertToInteractive',\n",
              "                                                    [key], {});\n",
              "        if (!dataTable) return;\n",
              "\n",
              "        const docLinkHtml = 'Like what you see? Visit the ' +\n",
              "          '<a target=\"_blank\" href=https://colab.research.google.com/notebooks/data_table.ipynb>data table notebook</a>'\n",
              "          + ' to learn more about interactive tables.';\n",
              "        element.innerHTML = '';\n",
              "        dataTable['output_type'] = 'display_data';\n",
              "        await google.colab.output.renderOutput(dataTable, element);\n",
              "        const docLink = document.createElement('div');\n",
              "        docLink.innerHTML = docLinkHtml;\n",
              "        element.appendChild(docLink);\n",
              "      }\n",
              "    </script>\n",
              "  </div>\n",
              "\n",
              "\n",
              "<div id=\"df-8196d67d-95c2-454d-9cb3-e31bf8b9c2aa\">\n",
              "  <button class=\"colab-df-quickchart\" onclick=\"quickchart('df-8196d67d-95c2-454d-9cb3-e31bf8b9c2aa')\"\n",
              "            title=\"Suggest charts.\"\n",
              "            style=\"display:none;\">\n",
              "\n",
              "<svg xmlns=\"http://www.w3.org/2000/svg\" height=\"24px\"viewBox=\"0 0 24 24\"\n",
              "     width=\"24px\">\n",
              "    <g>\n",
              "        <path d=\"M19 3H5c-1.1 0-2 .9-2 2v14c0 1.1.9 2 2 2h14c1.1 0 2-.9 2-2V5c0-1.1-.9-2-2-2zM9 17H7v-7h2v7zm4 0h-2V7h2v10zm4 0h-2v-4h2v4z\"/>\n",
              "    </g>\n",
              "</svg>\n",
              "  </button>\n",
              "\n",
              "<style>\n",
              "  .colab-df-quickchart {\n",
              "      --bg-color: #E8F0FE;\n",
              "      --fill-color: #1967D2;\n",
              "      --hover-bg-color: #E2EBFA;\n",
              "      --hover-fill-color: #174EA6;\n",
              "      --disabled-fill-color: #AAA;\n",
              "      --disabled-bg-color: #DDD;\n",
              "  }\n",
              "\n",
              "  [theme=dark] .colab-df-quickchart {\n",
              "      --bg-color: #3B4455;\n",
              "      --fill-color: #D2E3FC;\n",
              "      --hover-bg-color: #434B5C;\n",
              "      --hover-fill-color: #FFFFFF;\n",
              "      --disabled-bg-color: #3B4455;\n",
              "      --disabled-fill-color: #666;\n",
              "  }\n",
              "\n",
              "  .colab-df-quickchart {\n",
              "    background-color: var(--bg-color);\n",
              "    border: none;\n",
              "    border-radius: 50%;\n",
              "    cursor: pointer;\n",
              "    display: none;\n",
              "    fill: var(--fill-color);\n",
              "    height: 32px;\n",
              "    padding: 0;\n",
              "    width: 32px;\n",
              "  }\n",
              "\n",
              "  .colab-df-quickchart:hover {\n",
              "    background-color: var(--hover-bg-color);\n",
              "    box-shadow: 0 1px 2px rgba(60, 64, 67, 0.3), 0 1px 3px 1px rgba(60, 64, 67, 0.15);\n",
              "    fill: var(--button-hover-fill-color);\n",
              "  }\n",
              "\n",
              "  .colab-df-quickchart-complete:disabled,\n",
              "  .colab-df-quickchart-complete:disabled:hover {\n",
              "    background-color: var(--disabled-bg-color);\n",
              "    fill: var(--disabled-fill-color);\n",
              "    box-shadow: none;\n",
              "  }\n",
              "\n",
              "  .colab-df-spinner {\n",
              "    border: 2px solid var(--fill-color);\n",
              "    border-color: transparent;\n",
              "    border-bottom-color: var(--fill-color);\n",
              "    animation:\n",
              "      spin 1s steps(1) infinite;\n",
              "  }\n",
              "\n",
              "  @keyframes spin {\n",
              "    0% {\n",
              "      border-color: transparent;\n",
              "      border-bottom-color: var(--fill-color);\n",
              "      border-left-color: var(--fill-color);\n",
              "    }\n",
              "    20% {\n",
              "      border-color: transparent;\n",
              "      border-left-color: var(--fill-color);\n",
              "      border-top-color: var(--fill-color);\n",
              "    }\n",
              "    30% {\n",
              "      border-color: transparent;\n",
              "      border-left-color: var(--fill-color);\n",
              "      border-top-color: var(--fill-color);\n",
              "      border-right-color: var(--fill-color);\n",
              "    }\n",
              "    40% {\n",
              "      border-color: transparent;\n",
              "      border-right-color: var(--fill-color);\n",
              "      border-top-color: var(--fill-color);\n",
              "    }\n",
              "    60% {\n",
              "      border-color: transparent;\n",
              "      border-right-color: var(--fill-color);\n",
              "    }\n",
              "    80% {\n",
              "      border-color: transparent;\n",
              "      border-right-color: var(--fill-color);\n",
              "      border-bottom-color: var(--fill-color);\n",
              "    }\n",
              "    90% {\n",
              "      border-color: transparent;\n",
              "      border-bottom-color: var(--fill-color);\n",
              "    }\n",
              "  }\n",
              "</style>\n",
              "\n",
              "  <script>\n",
              "    async function quickchart(key) {\n",
              "      const quickchartButtonEl =\n",
              "        document.querySelector('#' + key + ' button');\n",
              "      quickchartButtonEl.disabled = true;  // To prevent multiple clicks.\n",
              "      quickchartButtonEl.classList.add('colab-df-spinner');\n",
              "      try {\n",
              "        const charts = await google.colab.kernel.invokeFunction(\n",
              "            'suggestCharts', [key], {});\n",
              "      } catch (error) {\n",
              "        console.error('Error during call to suggestCharts:', error);\n",
              "      }\n",
              "      quickchartButtonEl.classList.remove('colab-df-spinner');\n",
              "      quickchartButtonEl.classList.add('colab-df-quickchart-complete');\n",
              "    }\n",
              "    (() => {\n",
              "      let quickchartButtonEl =\n",
              "        document.querySelector('#df-8196d67d-95c2-454d-9cb3-e31bf8b9c2aa button');\n",
              "      quickchartButtonEl.style.display =\n",
              "        google.colab.kernel.accessAllowed ? 'block' : 'none';\n",
              "    })();\n",
              "  </script>\n",
              "</div>\n",
              "    </div>\n",
              "  </div>\n"
            ]
          },
          "metadata": {},
          "execution_count": 10
        }
      ]
    },
    {
      "cell_type": "code",
      "source": [
        "df = df.dropna().reset_index(drop=True)"
      ],
      "metadata": {
        "id": "y_cI_xJF0oXb"
      },
      "execution_count": 11,
      "outputs": []
    },
    {
      "cell_type": "code",
      "source": [
        "df.info()"
      ],
      "metadata": {
        "colab": {
          "base_uri": "https://localhost:8080/"
        },
        "id": "j7lvsxKpzDNS",
        "outputId": "1dcbb694-703c-480d-d359-cbb3ea817be6"
      },
      "execution_count": 12,
      "outputs": [
        {
          "output_type": "stream",
          "name": "stdout",
          "text": [
            "<class 'pandas.core.frame.DataFrame'>\n",
            "RangeIndex: 108451 entries, 0 to 108450\n",
            "Data columns (total 76 columns):\n",
            " #   Column                 Non-Null Count   Dtype  \n",
            "---  ------                 --------------   -----  \n",
            " 0   Sleep_Stage            108451 non-null  object \n",
            " 1   MeanP_Alpha_F4         108451 non-null  float64\n",
            " 2   MedianF_Alpha_F4       108451 non-null  float64\n",
            " 3   MeanF_Alpha_F4         108451 non-null  float64\n",
            " 4   SpectralEdge_Alpha_F4  108451 non-null  float64\n",
            " 5   PeakF_Alpha_F4         108451 non-null  float64\n",
            " 6   MeanP_Beta_F4          108451 non-null  float64\n",
            " 7   MedianF_Beta_F4        108451 non-null  float64\n",
            " 8   MeanF_Beta_F4          108451 non-null  float64\n",
            " 9   SpectralEdge_Beta_F4   108451 non-null  float64\n",
            " 10  PeakF_Beta_F4          108451 non-null  float64\n",
            " 11  MeanP_Theta_F4         108451 non-null  float64\n",
            " 12  MedianF_Theta_F4       108451 non-null  float64\n",
            " 13  MeanF_Theta_F4         108451 non-null  float64\n",
            " 14  SpectralEdge_Theta_F4  108451 non-null  float64\n",
            " 15  PeakF_Theta_F4         108451 non-null  float64\n",
            " 16  MeanP_Delta_F4         108451 non-null  float64\n",
            " 17  MedianF_Delta_F4       108451 non-null  float64\n",
            " 18  MeanF_Delta_F4         108451 non-null  float64\n",
            " 19  SpectralEdge_Delta_F4  108451 non-null  float64\n",
            " 20  PeakF_Delta_F4         108451 non-null  float64\n",
            " 21  MeanP_Gamma_F4         108451 non-null  float64\n",
            " 22  MedianF_Gamma_F4       108451 non-null  float64\n",
            " 23  MeanF_Gamma_F4         108451 non-null  float64\n",
            " 24  SpectralEdge_Gamma_F4  108451 non-null  float64\n",
            " 25  PeakF_Gamma_F4         108451 non-null  float64\n",
            " 26  MeanP_Alpha_C4         108451 non-null  float64\n",
            " 27  MedianF_Alpha_C4       108451 non-null  float64\n",
            " 28  MeanF_Alpha_C4         108451 non-null  float64\n",
            " 29  SpectralEdge_Alpha_C4  108451 non-null  float64\n",
            " 30  PeakF_Alpha_C4         108451 non-null  float64\n",
            " 31  MeanP_Beta_C4          108451 non-null  float64\n",
            " 32  MedianF_Beta_C4        108451 non-null  float64\n",
            " 33  MeanF_Beta_C4          108451 non-null  float64\n",
            " 34  SpectralEdge_Beta_C4   108451 non-null  float64\n",
            " 35  PeakF_Beta_C4          108451 non-null  float64\n",
            " 36  MeanP_Theta_C4         108451 non-null  float64\n",
            " 37  MedianF_Theta_C4       108451 non-null  float64\n",
            " 38  MeanF_Theta_C4         108451 non-null  float64\n",
            " 39  SpectralEdge_Theta_C4  108451 non-null  float64\n",
            " 40  PeakF_Theta_C4         108451 non-null  float64\n",
            " 41  MeanP_Delta_C4         108451 non-null  float64\n",
            " 42  MedianF_Delta_C4       108451 non-null  float64\n",
            " 43  MeanF_Delta_C4         108451 non-null  float64\n",
            " 44  SpectralEdge_Delta_C4  108451 non-null  float64\n",
            " 45  PeakF_Delta_C4         108451 non-null  float64\n",
            " 46  MeanP_Gamma_C4         108451 non-null  float64\n",
            " 47  MedianF_Gamma_C4       108451 non-null  float64\n",
            " 48  MeanF_Gamma_C4         108451 non-null  float64\n",
            " 49  SpectralEdge_Gamma_C4  108451 non-null  float64\n",
            " 50  PeakF_Gamma_C4         108451 non-null  float64\n",
            " 51  MeanP_Alpha_O2         108451 non-null  float64\n",
            " 52  MedianF_Alpha_O2       108451 non-null  float64\n",
            " 53  MeanF_Alpha_O2         108451 non-null  float64\n",
            " 54  SpectralEdge_Alpha_O2  108451 non-null  float64\n",
            " 55  PeakF_Alpha_O2         108451 non-null  float64\n",
            " 56  MeanP_Beta_O2          108451 non-null  float64\n",
            " 57  MedianF_Beta_O2        108451 non-null  float64\n",
            " 58  MeanF_Beta_O2          108451 non-null  float64\n",
            " 59  SpectralEdge_Beta_O2   108451 non-null  float64\n",
            " 60  PeakF_Beta_O2          108451 non-null  float64\n",
            " 61  MeanP_Theta_O2         108451 non-null  float64\n",
            " 62  MedianF_Theta_O2       108451 non-null  float64\n",
            " 63  MeanF_Theta_O2         108451 non-null  float64\n",
            " 64  SpectralEdge_Theta_O2  108451 non-null  float64\n",
            " 65  PeakF_Theta_O2         108451 non-null  float64\n",
            " 66  MeanP_Delta_O2         108451 non-null  float64\n",
            " 67  MedianF_Delta_O2       108451 non-null  float64\n",
            " 68  MeanF_Delta_O2         108451 non-null  float64\n",
            " 69  SpectralEdge_Delta_O2  108451 non-null  float64\n",
            " 70  PeakF_Delta_O2         108451 non-null  float64\n",
            " 71  MeanP_Gamma_O2         108451 non-null  float64\n",
            " 72  MedianF_Gamma_O2       108451 non-null  float64\n",
            " 73  MeanF_Gamma_O2         108451 non-null  float64\n",
            " 74  SpectralEdge_Gamma_O2  108451 non-null  float64\n",
            " 75  PeakF_Gamma_O2         108451 non-null  float64\n",
            "dtypes: float64(75), object(1)\n",
            "memory usage: 62.9+ MB\n"
          ]
        }
      ]
    },
    {
      "cell_type": "code",
      "source": [
        "target=\"Sleep_Stage\""
      ],
      "metadata": {
        "id": "hltzPzJVzTAS"
      },
      "execution_count": 13,
      "outputs": []
    },
    {
      "cell_type": "code",
      "source": [
        "df[\"Sleep_Stage\"].value_counts()"
      ],
      "metadata": {
        "colab": {
          "base_uri": "https://localhost:8080/"
        },
        "id": "wYzi0VqV0LxJ",
        "outputId": "81e12086-160c-4466-c7dd-15cc91af65dc"
      },
      "execution_count": 14,
      "outputs": [
        {
          "output_type": "execute_result",
          "data": {
            "text/plain": [
              "N2    39428\n",
              "N3    21290\n",
              "W     19355\n",
              "R     16465\n",
              "N1    11913\n",
              "Name: Sleep_Stage, dtype: int64"
            ]
          },
          "metadata": {},
          "execution_count": 14
        }
      ]
    },
    {
      "cell_type": "code",
      "source": [
        "from sklearn.preprocessing import LabelEncoder\n",
        "encd = LabelEncoder()"
      ],
      "metadata": {
        "id": "agq5Zi1Y3TNh"
      },
      "execution_count": 15,
      "outputs": []
    },
    {
      "cell_type": "code",
      "source": [
        "df[\"Sleep_Stage\"] = encd.fit_transform(df[\"Sleep_Stage\"])"
      ],
      "metadata": {
        "id": "sYjo5wWi1DCy"
      },
      "execution_count": 16,
      "outputs": []
    },
    {
      "cell_type": "code",
      "source": [
        "df[\"Sleep_Stage\"].value_counts()"
      ],
      "metadata": {
        "colab": {
          "base_uri": "https://localhost:8080/"
        },
        "id": "GgpmU0Xu3gHB",
        "outputId": "d453971e-259c-435d-9e01-74cadf3f3d49"
      },
      "execution_count": 18,
      "outputs": [
        {
          "output_type": "execute_result",
          "data": {
            "text/plain": [
              "1    39428\n",
              "2    21290\n",
              "4    19355\n",
              "3    16465\n",
              "0    11913\n",
              "Name: Sleep_Stage, dtype: int64"
            ]
          },
          "metadata": {},
          "execution_count": 18
        }
      ]
    },
    {
      "cell_type": "code",
      "source": [
        "target=\"Sleep_Stage\""
      ],
      "metadata": {
        "id": "RIzDPPiP3kkw"
      },
      "execution_count": 19,
      "outputs": []
    },
    {
      "cell_type": "code",
      "source": [
        "X = df.loc[:,df.columns != target]\n",
        "y = df[target]"
      ],
      "metadata": {
        "id": "D7ea4YRg4UOg"
      },
      "execution_count": 20,
      "outputs": []
    },
    {
      "cell_type": "code",
      "source": [
        "!pip install imbalanced-learn"
      ],
      "metadata": {
        "colab": {
          "base_uri": "https://localhost:8080/"
        },
        "id": "YfimuP3l4lFi",
        "outputId": "7d50af1c-8c6a-4262-ceb6-9e478b4bee12"
      },
      "execution_count": 21,
      "outputs": [
        {
          "output_type": "stream",
          "name": "stdout",
          "text": [
            "Requirement already satisfied: imbalanced-learn in /usr/local/lib/python3.10/dist-packages (0.10.1)\n",
            "Requirement already satisfied: numpy>=1.17.3 in /usr/local/lib/python3.10/dist-packages (from imbalanced-learn) (1.23.5)\n",
            "Requirement already satisfied: scipy>=1.3.2 in /usr/local/lib/python3.10/dist-packages (from imbalanced-learn) (1.10.1)\n",
            "Requirement already satisfied: scikit-learn>=1.0.2 in /usr/local/lib/python3.10/dist-packages (from imbalanced-learn) (1.2.2)\n",
            "Requirement already satisfied: joblib>=1.1.1 in /usr/local/lib/python3.10/dist-packages (from imbalanced-learn) (1.3.2)\n",
            "Requirement already satisfied: threadpoolctl>=2.0.0 in /usr/local/lib/python3.10/dist-packages (from imbalanced-learn) (3.2.0)\n"
          ]
        }
      ]
    },
    {
      "cell_type": "code",
      "source": [
        "y.value_counts()"
      ],
      "metadata": {
        "colab": {
          "base_uri": "https://localhost:8080/"
        },
        "id": "bpGhTuRt4wtR",
        "outputId": "e805e54c-ec68-4739-b961-e0a2333ab7c3"
      },
      "execution_count": 22,
      "outputs": [
        {
          "output_type": "execute_result",
          "data": {
            "text/plain": [
              "1    39428\n",
              "2    21290\n",
              "4    19355\n",
              "3    16465\n",
              "0    11913\n",
              "Name: Sleep_Stage, dtype: int64"
            ]
          },
          "metadata": {},
          "execution_count": 22
        }
      ]
    },
    {
      "cell_type": "code",
      "source": [
        "from imblearn.over_sampling import SMOTE\n",
        "\n",
        "smote = SMOTE()\n",
        "X_new,y_new = smote.fit_resample(X,y)"
      ],
      "metadata": {
        "id": "YmUbeeXz44PP"
      },
      "execution_count": 23,
      "outputs": []
    },
    {
      "cell_type": "code",
      "source": [
        "y_new.value_counts()"
      ],
      "metadata": {
        "colab": {
          "base_uri": "https://localhost:8080/"
        },
        "id": "1pbDZT1h5GoY",
        "outputId": "be736b36-89b4-46fa-a8c6-89acb2f88390"
      },
      "execution_count": 36,
      "outputs": [
        {
          "output_type": "execute_result",
          "data": {
            "text/plain": [
              "0    39428\n",
              "1    39428\n",
              "2    39428\n",
              "3    39428\n",
              "4    39428\n",
              "Name: Sleep_Stage, dtype: int64"
            ]
          },
          "metadata": {},
          "execution_count": 36
        }
      ]
    },
    {
      "cell_type": "code",
      "source": [
        "from sklearn.model_selection import train_test_split\n",
        "X_train, X_test, Y_train, Y_test = train_test_split(X_new,y_new, test_size=0.20)"
      ],
      "metadata": {
        "id": "RpyF2h226lUY"
      },
      "execution_count": 37,
      "outputs": []
    },
    {
      "cell_type": "code",
      "source": [
        "Y_train.value_counts()"
      ],
      "metadata": {
        "colab": {
          "base_uri": "https://localhost:8080/"
        },
        "id": "RlQjkwP662Mo",
        "outputId": "e8d9f5fb-832d-46f8-cc2d-960b751eee04"
      },
      "execution_count": 38,
      "outputs": [
        {
          "output_type": "execute_result",
          "data": {
            "text/plain": [
              "4    31638\n",
              "1    31577\n",
              "0    31528\n",
              "2    31493\n",
              "3    31476\n",
              "Name: Sleep_Stage, dtype: int64"
            ]
          },
          "metadata": {},
          "execution_count": 38
        }
      ]
    },
    {
      "cell_type": "code",
      "source": [
        "Y_test.shape"
      ],
      "metadata": {
        "colab": {
          "base_uri": "https://localhost:8080/"
        },
        "id": "juPfAsTX67Yx",
        "outputId": "1e973768-7519-47ce-80dc-1f74b21d50a6"
      },
      "execution_count": 39,
      "outputs": [
        {
          "output_type": "execute_result",
          "data": {
            "text/plain": [
              "(39428,)"
            ]
          },
          "metadata": {},
          "execution_count": 39
        }
      ]
    },
    {
      "cell_type": "markdown",
      "source": [
        "# tree"
      ],
      "metadata": {
        "id": "vAoUjTLV89N_"
      }
    },
    {
      "cell_type": "code",
      "source": [
        "from sklearn import tree\n",
        "clf = tree.DecisionTreeClassifier()\n",
        "clf=clf.fit(X_train,Y_train)\n",
        "Y_pred = clf.predict(X_test)"
      ],
      "metadata": {
        "id": "TmqdCxgK7ItH"
      },
      "execution_count": 43,
      "outputs": []
    },
    {
      "cell_type": "code",
      "source": [
        "from sklearn.metrics import classification_report, confusion_matrix, accuracy_score\n",
        "print(confusion_matrix(Y_test, Y_pred))\n",
        "print(classification_report(Y_test,Y_pred))\n",
        "print(\"Accurecy: \",accuracy_score(Y_test, Y_pred))"
      ],
      "metadata": {
        "colab": {
          "base_uri": "https://localhost:8080/"
        },
        "id": "2bnucD8l7Y-Y",
        "outputId": "e9e9f4dc-2346-490f-e90d-5485f5d528fb"
      },
      "execution_count": 44,
      "outputs": [
        {
          "output_type": "stream",
          "name": "stdout",
          "text": [
            "[[5552  756   97  710  785]\n",
            " [1036 4816 1055  712  232]\n",
            " [ 212  961 6642   64   56]\n",
            " [ 833  605   72 6290  152]\n",
            " [ 984  213   65  161 6367]]\n",
            "              precision    recall  f1-score   support\n",
            "\n",
            "           0       0.64      0.70      0.67      7900\n",
            "           1       0.66      0.61      0.63      7851\n",
            "           2       0.84      0.84      0.84      7935\n",
            "           3       0.79      0.79      0.79      7952\n",
            "           4       0.84      0.82      0.83      7790\n",
            "\n",
            "    accuracy                           0.75     39428\n",
            "   macro avg       0.75      0.75      0.75     39428\n",
            "weighted avg       0.75      0.75      0.75     39428\n",
            "\n",
            "Accurecy:  0.7524348178959115\n"
          ]
        }
      ]
    },
    {
      "cell_type": "markdown",
      "source": [
        "#RandomForest"
      ],
      "metadata": {
        "id": "gpxJ3tsc83pX"
      }
    },
    {
      "cell_type": "code",
      "source": [
        "%%time\n",
        "from sklearn.ensemble import RandomForestClassifier\n",
        "rf = RandomForestClassifier()\n",
        "rf.fit(X_train, Y_train)\n",
        "Y_pred = rf.predict(X_test)"
      ],
      "metadata": {
        "colab": {
          "base_uri": "https://localhost:8080/"
        },
        "id": "JtMsnPa470MH",
        "outputId": "fb20258e-6fe2-473e-eb3c-0d80d5d5eb25"
      },
      "execution_count": 42,
      "outputs": [
        {
          "output_type": "stream",
          "name": "stdout",
          "text": [
            "CPU times: user 2min 39s, sys: 280 ms, total: 2min 39s\n",
            "Wall time: 2min 42s\n"
          ]
        }
      ]
    },
    {
      "cell_type": "code",
      "source": [
        "from sklearn.metrics import classification_report, confusion_matrix, accuracy_score\n",
        "print(confusion_matrix(Y_test, Y_pred))\n",
        "print(classification_report(Y_test,Y_pred))\n",
        "print(\"Accurecy: \",accuracy_score(Y_test, Y_pred))"
      ],
      "metadata": {
        "colab": {
          "base_uri": "https://localhost:8080/"
        },
        "id": "hoouKXTE7_on",
        "outputId": "e172b5f6-75f2-4d17-c876-56c269244c7e"
      },
      "execution_count": 45,
      "outputs": [
        {
          "output_type": "stream",
          "name": "stdout",
          "text": [
            "[[5552  756   97  710  785]\n",
            " [1036 4816 1055  712  232]\n",
            " [ 212  961 6642   64   56]\n",
            " [ 833  605   72 6290  152]\n",
            " [ 984  213   65  161 6367]]\n",
            "              precision    recall  f1-score   support\n",
            "\n",
            "           0       0.64      0.70      0.67      7900\n",
            "           1       0.66      0.61      0.63      7851\n",
            "           2       0.84      0.84      0.84      7935\n",
            "           3       0.79      0.79      0.79      7952\n",
            "           4       0.84      0.82      0.83      7790\n",
            "\n",
            "    accuracy                           0.75     39428\n",
            "   macro avg       0.75      0.75      0.75     39428\n",
            "weighted avg       0.75      0.75      0.75     39428\n",
            "\n",
            "Accurecy:  0.7524348178959115\n"
          ]
        }
      ]
    },
    {
      "cell_type": "markdown",
      "source": [
        "#AdaBoost"
      ],
      "metadata": {
        "id": "XigBn5wX8pT1"
      }
    },
    {
      "cell_type": "code",
      "source": [
        "from sklearn.ensemble import AdaBoostClassifier\n",
        "ada = AdaBoostClassifier()\n",
        "ada.fit(X_train, Y_train)\n",
        "Y_pred = ada.predict(X_test)"
      ],
      "metadata": {
        "id": "ZPV1LGV68OTv"
      },
      "execution_count": 46,
      "outputs": []
    },
    {
      "cell_type": "code",
      "source": [
        "from sklearn.metrics import classification_report, confusion_matrix, accuracy_score\n",
        "print(confusion_matrix(Y_test, Y_pred))\n",
        "print(classification_report(Y_test,Y_pred))\n",
        "print(\"Accurecy: \",accuracy_score(Y_test, Y_pred))"
      ],
      "metadata": {
        "colab": {
          "base_uri": "https://localhost:8080/"
        },
        "id": "_CNmYdT-8cpJ",
        "outputId": "a986217e-42c2-490c-f704-3cbc6d5e708c"
      },
      "execution_count": 47,
      "outputs": [
        {
          "output_type": "stream",
          "name": "stdout",
          "text": [
            "[[2914  834  268 1763 2121]\n",
            " [ 746 3335 2337 1135  298]\n",
            " [ 183  743 6796  126   87]\n",
            " [1253  807  240 5256  396]\n",
            " [1004  135   99  282 6270]]\n",
            "              precision    recall  f1-score   support\n",
            "\n",
            "           0       0.48      0.37      0.42      7900\n",
            "           1       0.57      0.42      0.49      7851\n",
            "           2       0.70      0.86      0.77      7935\n",
            "           3       0.61      0.66      0.64      7952\n",
            "           4       0.68      0.80      0.74      7790\n",
            "\n",
            "    accuracy                           0.62     39428\n",
            "   macro avg       0.61      0.62      0.61     39428\n",
            "weighted avg       0.61      0.62      0.61     39428\n",
            "\n",
            "Accurecy:  0.6231865679212742\n"
          ]
        }
      ]
    }
  ]
}