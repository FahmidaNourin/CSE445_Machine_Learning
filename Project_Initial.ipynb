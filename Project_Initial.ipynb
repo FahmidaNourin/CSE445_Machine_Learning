{
  "nbformat": 4,
  "nbformat_minor": 0,
  "metadata": {
    "colab": {
      "provenance": [],
      "include_colab_link": true
    },
    "kernelspec": {
      "name": "python3",
      "display_name": "Python 3"
    },
    "language_info": {
      "name": "python"
    }
  },
  "cells": [
    {
      "cell_type": "markdown",
      "metadata": {
        "id": "view-in-github",
        "colab_type": "text"
      },
      "source": [
        "<a href=\"https://colab.research.google.com/github/FahmidaNourin/CSE445_Machine_Learning/blob/main/Project_Initial.ipynb\" target=\"_parent\"><img src=\"https://colab.research.google.com/assets/colab-badge.svg\" alt=\"Open In Colab\"/></a>"
      ]
    },
    {
      "cell_type": "markdown",
      "source": [
        "#connecting with drive"
      ],
      "metadata": {
        "id": "a9eWOMrt9NCf"
      }
    },
    {
      "cell_type": "code",
      "source": [
        "from google.colab import drive\n",
        "drive.mount('/content/drive')"
      ],
      "metadata": {
        "id": "gg_-1xQhkeLV",
        "outputId": "6985c83c-ee3b-46ac-ee59-56f91f87275a",
        "colab": {
          "base_uri": "https://localhost:8080/"
        }
      },
      "execution_count": 28,
      "outputs": [
        {
          "output_type": "stream",
          "name": "stdout",
          "text": [
            "Drive already mounted at /content/drive; to attempt to forcibly remount, call drive.mount(\"/content/drive\", force_remount=True).\n"
          ]
        }
      ]
    },
    {
      "cell_type": "markdown",
      "source": [
        "#read in csv file"
      ],
      "metadata": {
        "id": "o4ik_h--9kFO"
      }
    },
    {
      "cell_type": "code",
      "source": [
        "import numpy as np\n",
        "import pandas as pd\n",
        "\n",
        "\n",
        "df = pd.read_csv(\"/content/drive/MyDrive/Sleep_Research/HMC_Sleep_Stages.csv\")"
      ],
      "metadata": {
        "id": "q44vYeB9m-Ja"
      },
      "execution_count": 69,
      "outputs": []
    },
    {
      "cell_type": "code",
      "source": [
        "df.head()"
      ],
      "metadata": {
        "colab": {
          "base_uri": "https://localhost:8080/",
          "height": 250
        },
        "id": "XuQg-qLppPSZ",
        "outputId": "1760b758-6464-4c43-d42d-8c78185825c4"
      },
      "execution_count": 30,
      "outputs": [
        {
          "output_type": "execute_result",
          "data": {
            "text/plain": [
              "  Subject Sleep_Stage  Epoch  MeanP_Alpha_F4  MedianF_Alpha_F4  \\\n",
              "0   SN002          N1      6         0.00034          10.11512   \n",
              "1   SN002          N1      7         0.00035          10.73951   \n",
              "2   SN002          N1      8         0.00035           9.36585   \n",
              "3   SN002          N1    116         0.00054           9.74049   \n",
              "4   SN002          N1    117         0.00034          10.11512   \n",
              "\n",
              "   MeanF_Alpha_F4  SpectralEdge_Alpha_F4  PeakF_Alpha_F4  MeanP_Beta_F4  \\\n",
              "0        17.85756               17.48293        10.24000        0.00047   \n",
              "1        17.60780               17.10829         9.11610        0.00048   \n",
              "2        17.60780               16.98341         9.24098        0.00042   \n",
              "3        15.98439               15.48488         8.36683        0.00051   \n",
              "4        16.48390               15.98439        12.23805        0.00034   \n",
              "\n",
              "   MedianF_Beta_F4  ...  MeanP_Delta_O2  MedianF_Delta_O2  MeanF_Delta_O2  \\\n",
              "0         17.73268  ...         0.00112           0.74927         6.36878   \n",
              "1         16.85854  ...         0.00070           0.99902         6.86829   \n",
              "2         17.35805  ...         0.00077           1.49854         6.49366   \n",
              "3         14.61073  ...         0.00082           0.87415         7.49268   \n",
              "4         15.11024  ...         0.00084           0.87415         6.86829   \n",
              "\n",
              "   SpectralEdge_Delta_O2  PeakF_Delta_O2  MeanP_Gamma_O2  MedianF_Gamma_O2  \\\n",
              "0                2.87220         0.62439        0.000076          32.71805   \n",
              "1                3.62146         0.74927        0.000072          32.09366   \n",
              "2                4.12098         0.74927        0.000069          33.09268   \n",
              "3                3.49659         0.87415        0.000039          28.34732   \n",
              "4                2.87220         0.62439        0.000032          28.97171   \n",
              "\n",
              "   MeanF_Gamma_O2  SpectralEdge_Gamma_O2  PeakF_Gamma_O2  \n",
              "0        43.83220               49.95122        49.95122  \n",
              "1        44.33171               49.95122        49.95122  \n",
              "2        43.95707               49.95122        49.95122  \n",
              "3        43.08293               49.95122        49.95122  \n",
              "4        43.20780               49.95122        49.95122  \n",
              "\n",
              "[5 rows x 78 columns]"
            ],
            "text/html": [
              "\n",
              "  <div id=\"df-e68e8587-63e4-4651-814e-7603ca0b21ff\" class=\"colab-df-container\">\n",
              "    <div>\n",
              "<style scoped>\n",
              "    .dataframe tbody tr th:only-of-type {\n",
              "        vertical-align: middle;\n",
              "    }\n",
              "\n",
              "    .dataframe tbody tr th {\n",
              "        vertical-align: top;\n",
              "    }\n",
              "\n",
              "    .dataframe thead th {\n",
              "        text-align: right;\n",
              "    }\n",
              "</style>\n",
              "<table border=\"1\" class=\"dataframe\">\n",
              "  <thead>\n",
              "    <tr style=\"text-align: right;\">\n",
              "      <th></th>\n",
              "      <th>Subject</th>\n",
              "      <th>Sleep_Stage</th>\n",
              "      <th>Epoch</th>\n",
              "      <th>MeanP_Alpha_F4</th>\n",
              "      <th>MedianF_Alpha_F4</th>\n",
              "      <th>MeanF_Alpha_F4</th>\n",
              "      <th>SpectralEdge_Alpha_F4</th>\n",
              "      <th>PeakF_Alpha_F4</th>\n",
              "      <th>MeanP_Beta_F4</th>\n",
              "      <th>MedianF_Beta_F4</th>\n",
              "      <th>...</th>\n",
              "      <th>MeanP_Delta_O2</th>\n",
              "      <th>MedianF_Delta_O2</th>\n",
              "      <th>MeanF_Delta_O2</th>\n",
              "      <th>SpectralEdge_Delta_O2</th>\n",
              "      <th>PeakF_Delta_O2</th>\n",
              "      <th>MeanP_Gamma_O2</th>\n",
              "      <th>MedianF_Gamma_O2</th>\n",
              "      <th>MeanF_Gamma_O2</th>\n",
              "      <th>SpectralEdge_Gamma_O2</th>\n",
              "      <th>PeakF_Gamma_O2</th>\n",
              "    </tr>\n",
              "  </thead>\n",
              "  <tbody>\n",
              "    <tr>\n",
              "      <th>0</th>\n",
              "      <td>SN002</td>\n",
              "      <td>N1</td>\n",
              "      <td>6</td>\n",
              "      <td>0.00034</td>\n",
              "      <td>10.11512</td>\n",
              "      <td>17.85756</td>\n",
              "      <td>17.48293</td>\n",
              "      <td>10.24000</td>\n",
              "      <td>0.00047</td>\n",
              "      <td>17.73268</td>\n",
              "      <td>...</td>\n",
              "      <td>0.00112</td>\n",
              "      <td>0.74927</td>\n",
              "      <td>6.36878</td>\n",
              "      <td>2.87220</td>\n",
              "      <td>0.62439</td>\n",
              "      <td>0.000076</td>\n",
              "      <td>32.71805</td>\n",
              "      <td>43.83220</td>\n",
              "      <td>49.95122</td>\n",
              "      <td>49.95122</td>\n",
              "    </tr>\n",
              "    <tr>\n",
              "      <th>1</th>\n",
              "      <td>SN002</td>\n",
              "      <td>N1</td>\n",
              "      <td>7</td>\n",
              "      <td>0.00035</td>\n",
              "      <td>10.73951</td>\n",
              "      <td>17.60780</td>\n",
              "      <td>17.10829</td>\n",
              "      <td>9.11610</td>\n",
              "      <td>0.00048</td>\n",
              "      <td>16.85854</td>\n",
              "      <td>...</td>\n",
              "      <td>0.00070</td>\n",
              "      <td>0.99902</td>\n",
              "      <td>6.86829</td>\n",
              "      <td>3.62146</td>\n",
              "      <td>0.74927</td>\n",
              "      <td>0.000072</td>\n",
              "      <td>32.09366</td>\n",
              "      <td>44.33171</td>\n",
              "      <td>49.95122</td>\n",
              "      <td>49.95122</td>\n",
              "    </tr>\n",
              "    <tr>\n",
              "      <th>2</th>\n",
              "      <td>SN002</td>\n",
              "      <td>N1</td>\n",
              "      <td>8</td>\n",
              "      <td>0.00035</td>\n",
              "      <td>9.36585</td>\n",
              "      <td>17.60780</td>\n",
              "      <td>16.98341</td>\n",
              "      <td>9.24098</td>\n",
              "      <td>0.00042</td>\n",
              "      <td>17.35805</td>\n",
              "      <td>...</td>\n",
              "      <td>0.00077</td>\n",
              "      <td>1.49854</td>\n",
              "      <td>6.49366</td>\n",
              "      <td>4.12098</td>\n",
              "      <td>0.74927</td>\n",
              "      <td>0.000069</td>\n",
              "      <td>33.09268</td>\n",
              "      <td>43.95707</td>\n",
              "      <td>49.95122</td>\n",
              "      <td>49.95122</td>\n",
              "    </tr>\n",
              "    <tr>\n",
              "      <th>3</th>\n",
              "      <td>SN002</td>\n",
              "      <td>N1</td>\n",
              "      <td>116</td>\n",
              "      <td>0.00054</td>\n",
              "      <td>9.74049</td>\n",
              "      <td>15.98439</td>\n",
              "      <td>15.48488</td>\n",
              "      <td>8.36683</td>\n",
              "      <td>0.00051</td>\n",
              "      <td>14.61073</td>\n",
              "      <td>...</td>\n",
              "      <td>0.00082</td>\n",
              "      <td>0.87415</td>\n",
              "      <td>7.49268</td>\n",
              "      <td>3.49659</td>\n",
              "      <td>0.87415</td>\n",
              "      <td>0.000039</td>\n",
              "      <td>28.34732</td>\n",
              "      <td>43.08293</td>\n",
              "      <td>49.95122</td>\n",
              "      <td>49.95122</td>\n",
              "    </tr>\n",
              "    <tr>\n",
              "      <th>4</th>\n",
              "      <td>SN002</td>\n",
              "      <td>N1</td>\n",
              "      <td>117</td>\n",
              "      <td>0.00034</td>\n",
              "      <td>10.11512</td>\n",
              "      <td>16.48390</td>\n",
              "      <td>15.98439</td>\n",
              "      <td>12.23805</td>\n",
              "      <td>0.00034</td>\n",
              "      <td>15.11024</td>\n",
              "      <td>...</td>\n",
              "      <td>0.00084</td>\n",
              "      <td>0.87415</td>\n",
              "      <td>6.86829</td>\n",
              "      <td>2.87220</td>\n",
              "      <td>0.62439</td>\n",
              "      <td>0.000032</td>\n",
              "      <td>28.97171</td>\n",
              "      <td>43.20780</td>\n",
              "      <td>49.95122</td>\n",
              "      <td>49.95122</td>\n",
              "    </tr>\n",
              "  </tbody>\n",
              "</table>\n",
              "<p>5 rows × 78 columns</p>\n",
              "</div>\n",
              "    <div class=\"colab-df-buttons\">\n",
              "\n",
              "  <div class=\"colab-df-container\">\n",
              "    <button class=\"colab-df-convert\" onclick=\"convertToInteractive('df-e68e8587-63e4-4651-814e-7603ca0b21ff')\"\n",
              "            title=\"Convert this dataframe to an interactive table.\"\n",
              "            style=\"display:none;\">\n",
              "\n",
              "  <svg xmlns=\"http://www.w3.org/2000/svg\" height=\"24px\" viewBox=\"0 -960 960 960\">\n",
              "    <path d=\"M120-120v-720h720v720H120Zm60-500h600v-160H180v160Zm220 220h160v-160H400v160Zm0 220h160v-160H400v160ZM180-400h160v-160H180v160Zm440 0h160v-160H620v160ZM180-180h160v-160H180v160Zm440 0h160v-160H620v160Z\"/>\n",
              "  </svg>\n",
              "    </button>\n",
              "\n",
              "  <style>\n",
              "    .colab-df-container {\n",
              "      display:flex;\n",
              "      gap: 12px;\n",
              "    }\n",
              "\n",
              "    .colab-df-convert {\n",
              "      background-color: #E8F0FE;\n",
              "      border: none;\n",
              "      border-radius: 50%;\n",
              "      cursor: pointer;\n",
              "      display: none;\n",
              "      fill: #1967D2;\n",
              "      height: 32px;\n",
              "      padding: 0 0 0 0;\n",
              "      width: 32px;\n",
              "    }\n",
              "\n",
              "    .colab-df-convert:hover {\n",
              "      background-color: #E2EBFA;\n",
              "      box-shadow: 0px 1px 2px rgba(60, 64, 67, 0.3), 0px 1px 3px 1px rgba(60, 64, 67, 0.15);\n",
              "      fill: #174EA6;\n",
              "    }\n",
              "\n",
              "    .colab-df-buttons div {\n",
              "      margin-bottom: 4px;\n",
              "    }\n",
              "\n",
              "    [theme=dark] .colab-df-convert {\n",
              "      background-color: #3B4455;\n",
              "      fill: #D2E3FC;\n",
              "    }\n",
              "\n",
              "    [theme=dark] .colab-df-convert:hover {\n",
              "      background-color: #434B5C;\n",
              "      box-shadow: 0px 1px 3px 1px rgba(0, 0, 0, 0.15);\n",
              "      filter: drop-shadow(0px 1px 2px rgba(0, 0, 0, 0.3));\n",
              "      fill: #FFFFFF;\n",
              "    }\n",
              "  </style>\n",
              "\n",
              "    <script>\n",
              "      const buttonEl =\n",
              "        document.querySelector('#df-e68e8587-63e4-4651-814e-7603ca0b21ff button.colab-df-convert');\n",
              "      buttonEl.style.display =\n",
              "        google.colab.kernel.accessAllowed ? 'block' : 'none';\n",
              "\n",
              "      async function convertToInteractive(key) {\n",
              "        const element = document.querySelector('#df-e68e8587-63e4-4651-814e-7603ca0b21ff');\n",
              "        const dataTable =\n",
              "          await google.colab.kernel.invokeFunction('convertToInteractive',\n",
              "                                                    [key], {});\n",
              "        if (!dataTable) return;\n",
              "\n",
              "        const docLinkHtml = 'Like what you see? Visit the ' +\n",
              "          '<a target=\"_blank\" href=https://colab.research.google.com/notebooks/data_table.ipynb>data table notebook</a>'\n",
              "          + ' to learn more about interactive tables.';\n",
              "        element.innerHTML = '';\n",
              "        dataTable['output_type'] = 'display_data';\n",
              "        await google.colab.output.renderOutput(dataTable, element);\n",
              "        const docLink = document.createElement('div');\n",
              "        docLink.innerHTML = docLinkHtml;\n",
              "        element.appendChild(docLink);\n",
              "      }\n",
              "    </script>\n",
              "  </div>\n",
              "\n",
              "\n",
              "<div id=\"df-837a2cff-3dd1-4aab-9b6d-05cc531eb9f0\">\n",
              "  <button class=\"colab-df-quickchart\" onclick=\"quickchart('df-837a2cff-3dd1-4aab-9b6d-05cc531eb9f0')\"\n",
              "            title=\"Suggest charts.\"\n",
              "            style=\"display:none;\">\n",
              "\n",
              "<svg xmlns=\"http://www.w3.org/2000/svg\" height=\"24px\"viewBox=\"0 0 24 24\"\n",
              "     width=\"24px\">\n",
              "    <g>\n",
              "        <path d=\"M19 3H5c-1.1 0-2 .9-2 2v14c0 1.1.9 2 2 2h14c1.1 0 2-.9 2-2V5c0-1.1-.9-2-2-2zM9 17H7v-7h2v7zm4 0h-2V7h2v10zm4 0h-2v-4h2v4z\"/>\n",
              "    </g>\n",
              "</svg>\n",
              "  </button>\n",
              "\n",
              "<style>\n",
              "  .colab-df-quickchart {\n",
              "      --bg-color: #E8F0FE;\n",
              "      --fill-color: #1967D2;\n",
              "      --hover-bg-color: #E2EBFA;\n",
              "      --hover-fill-color: #174EA6;\n",
              "      --disabled-fill-color: #AAA;\n",
              "      --disabled-bg-color: #DDD;\n",
              "  }\n",
              "\n",
              "  [theme=dark] .colab-df-quickchart {\n",
              "      --bg-color: #3B4455;\n",
              "      --fill-color: #D2E3FC;\n",
              "      --hover-bg-color: #434B5C;\n",
              "      --hover-fill-color: #FFFFFF;\n",
              "      --disabled-bg-color: #3B4455;\n",
              "      --disabled-fill-color: #666;\n",
              "  }\n",
              "\n",
              "  .colab-df-quickchart {\n",
              "    background-color: var(--bg-color);\n",
              "    border: none;\n",
              "    border-radius: 50%;\n",
              "    cursor: pointer;\n",
              "    display: none;\n",
              "    fill: var(--fill-color);\n",
              "    height: 32px;\n",
              "    padding: 0;\n",
              "    width: 32px;\n",
              "  }\n",
              "\n",
              "  .colab-df-quickchart:hover {\n",
              "    background-color: var(--hover-bg-color);\n",
              "    box-shadow: 0 1px 2px rgba(60, 64, 67, 0.3), 0 1px 3px 1px rgba(60, 64, 67, 0.15);\n",
              "    fill: var(--button-hover-fill-color);\n",
              "  }\n",
              "\n",
              "  .colab-df-quickchart-complete:disabled,\n",
              "  .colab-df-quickchart-complete:disabled:hover {\n",
              "    background-color: var(--disabled-bg-color);\n",
              "    fill: var(--disabled-fill-color);\n",
              "    box-shadow: none;\n",
              "  }\n",
              "\n",
              "  .colab-df-spinner {\n",
              "    border: 2px solid var(--fill-color);\n",
              "    border-color: transparent;\n",
              "    border-bottom-color: var(--fill-color);\n",
              "    animation:\n",
              "      spin 1s steps(1) infinite;\n",
              "  }\n",
              "\n",
              "  @keyframes spin {\n",
              "    0% {\n",
              "      border-color: transparent;\n",
              "      border-bottom-color: var(--fill-color);\n",
              "      border-left-color: var(--fill-color);\n",
              "    }\n",
              "    20% {\n",
              "      border-color: transparent;\n",
              "      border-left-color: var(--fill-color);\n",
              "      border-top-color: var(--fill-color);\n",
              "    }\n",
              "    30% {\n",
              "      border-color: transparent;\n",
              "      border-left-color: var(--fill-color);\n",
              "      border-top-color: var(--fill-color);\n",
              "      border-right-color: var(--fill-color);\n",
              "    }\n",
              "    40% {\n",
              "      border-color: transparent;\n",
              "      border-right-color: var(--fill-color);\n",
              "      border-top-color: var(--fill-color);\n",
              "    }\n",
              "    60% {\n",
              "      border-color: transparent;\n",
              "      border-right-color: var(--fill-color);\n",
              "    }\n",
              "    80% {\n",
              "      border-color: transparent;\n",
              "      border-right-color: var(--fill-color);\n",
              "      border-bottom-color: var(--fill-color);\n",
              "    }\n",
              "    90% {\n",
              "      border-color: transparent;\n",
              "      border-bottom-color: var(--fill-color);\n",
              "    }\n",
              "  }\n",
              "</style>\n",
              "\n",
              "  <script>\n",
              "    async function quickchart(key) {\n",
              "      const quickchartButtonEl =\n",
              "        document.querySelector('#' + key + ' button');\n",
              "      quickchartButtonEl.disabled = true;  // To prevent multiple clicks.\n",
              "      quickchartButtonEl.classList.add('colab-df-spinner');\n",
              "      try {\n",
              "        const charts = await google.colab.kernel.invokeFunction(\n",
              "            'suggestCharts', [key], {});\n",
              "      } catch (error) {\n",
              "        console.error('Error during call to suggestCharts:', error);\n",
              "      }\n",
              "      quickchartButtonEl.classList.remove('colab-df-spinner');\n",
              "      quickchartButtonEl.classList.add('colab-df-quickchart-complete');\n",
              "    }\n",
              "    (() => {\n",
              "      let quickchartButtonEl =\n",
              "        document.querySelector('#df-837a2cff-3dd1-4aab-9b6d-05cc531eb9f0 button');\n",
              "      quickchartButtonEl.style.display =\n",
              "        google.colab.kernel.accessAllowed ? 'block' : 'none';\n",
              "    })();\n",
              "  </script>\n",
              "</div>\n",
              "    </div>\n",
              "  </div>\n"
            ]
          },
          "metadata": {},
          "execution_count": 30
        }
      ]
    },
    {
      "cell_type": "code",
      "source": [
        "df = df.dropna().reset_index(drop=True)"
      ],
      "metadata": {
        "id": "y_cI_xJF0oXb"
      },
      "execution_count": 34,
      "outputs": []
    },
    {
      "cell_type": "code",
      "source": [
        "df.info()"
      ],
      "metadata": {
        "colab": {
          "base_uri": "https://localhost:8080/"
        },
        "id": "j7lvsxKpzDNS",
        "outputId": "0a6e867b-bcee-415c-94f6-0d28af22cb68"
      },
      "execution_count": 35,
      "outputs": [
        {
          "output_type": "stream",
          "name": "stdout",
          "text": [
            "<class 'pandas.core.frame.DataFrame'>\n",
            "RangeIndex: 108451 entries, 0 to 108450\n",
            "Data columns (total 76 columns):\n",
            " #   Column                 Non-Null Count   Dtype  \n",
            "---  ------                 --------------   -----  \n",
            " 0   Sleep_Stage            108451 non-null  object \n",
            " 1   MeanP_Alpha_F4         108451 non-null  float64\n",
            " 2   MedianF_Alpha_F4       108451 non-null  float64\n",
            " 3   MeanF_Alpha_F4         108451 non-null  float64\n",
            " 4   SpectralEdge_Alpha_F4  108451 non-null  float64\n",
            " 5   PeakF_Alpha_F4         108451 non-null  float64\n",
            " 6   MeanP_Beta_F4          108451 non-null  float64\n",
            " 7   MedianF_Beta_F4        108451 non-null  float64\n",
            " 8   MeanF_Beta_F4          108451 non-null  float64\n",
            " 9   SpectralEdge_Beta_F4   108451 non-null  float64\n",
            " 10  PeakF_Beta_F4          108451 non-null  float64\n",
            " 11  MeanP_Theta_F4         108451 non-null  float64\n",
            " 12  MedianF_Theta_F4       108451 non-null  float64\n",
            " 13  MeanF_Theta_F4         108451 non-null  float64\n",
            " 14  SpectralEdge_Theta_F4  108451 non-null  float64\n",
            " 15  PeakF_Theta_F4         108451 non-null  float64\n",
            " 16  MeanP_Delta_F4         108451 non-null  float64\n",
            " 17  MedianF_Delta_F4       108451 non-null  float64\n",
            " 18  MeanF_Delta_F4         108451 non-null  float64\n",
            " 19  SpectralEdge_Delta_F4  108451 non-null  float64\n",
            " 20  PeakF_Delta_F4         108451 non-null  float64\n",
            " 21  MeanP_Gamma_F4         108451 non-null  float64\n",
            " 22  MedianF_Gamma_F4       108451 non-null  float64\n",
            " 23  MeanF_Gamma_F4         108451 non-null  float64\n",
            " 24  SpectralEdge_Gamma_F4  108451 non-null  float64\n",
            " 25  PeakF_Gamma_F4         108451 non-null  float64\n",
            " 26  MeanP_Alpha_C4         108451 non-null  float64\n",
            " 27  MedianF_Alpha_C4       108451 non-null  float64\n",
            " 28  MeanF_Alpha_C4         108451 non-null  float64\n",
            " 29  SpectralEdge_Alpha_C4  108451 non-null  float64\n",
            " 30  PeakF_Alpha_C4         108451 non-null  float64\n",
            " 31  MeanP_Beta_C4          108451 non-null  float64\n",
            " 32  MedianF_Beta_C4        108451 non-null  float64\n",
            " 33  MeanF_Beta_C4          108451 non-null  float64\n",
            " 34  SpectralEdge_Beta_C4   108451 non-null  float64\n",
            " 35  PeakF_Beta_C4          108451 non-null  float64\n",
            " 36  MeanP_Theta_C4         108451 non-null  float64\n",
            " 37  MedianF_Theta_C4       108451 non-null  float64\n",
            " 38  MeanF_Theta_C4         108451 non-null  float64\n",
            " 39  SpectralEdge_Theta_C4  108451 non-null  float64\n",
            " 40  PeakF_Theta_C4         108451 non-null  float64\n",
            " 41  MeanP_Delta_C4         108451 non-null  float64\n",
            " 42  MedianF_Delta_C4       108451 non-null  float64\n",
            " 43  MeanF_Delta_C4         108451 non-null  float64\n",
            " 44  SpectralEdge_Delta_C4  108451 non-null  float64\n",
            " 45  PeakF_Delta_C4         108451 non-null  float64\n",
            " 46  MeanP_Gamma_C4         108451 non-null  float64\n",
            " 47  MedianF_Gamma_C4       108451 non-null  float64\n",
            " 48  MeanF_Gamma_C4         108451 non-null  float64\n",
            " 49  SpectralEdge_Gamma_C4  108451 non-null  float64\n",
            " 50  PeakF_Gamma_C4         108451 non-null  float64\n",
            " 51  MeanP_Alpha_O2         108451 non-null  float64\n",
            " 52  MedianF_Alpha_O2       108451 non-null  float64\n",
            " 53  MeanF_Alpha_O2         108451 non-null  float64\n",
            " 54  SpectralEdge_Alpha_O2  108451 non-null  float64\n",
            " 55  PeakF_Alpha_O2         108451 non-null  float64\n",
            " 56  MeanP_Beta_O2          108451 non-null  float64\n",
            " 57  MedianF_Beta_O2        108451 non-null  float64\n",
            " 58  MeanF_Beta_O2          108451 non-null  float64\n",
            " 59  SpectralEdge_Beta_O2   108451 non-null  float64\n",
            " 60  PeakF_Beta_O2          108451 non-null  float64\n",
            " 61  MeanP_Theta_O2         108451 non-null  float64\n",
            " 62  MedianF_Theta_O2       108451 non-null  float64\n",
            " 63  MeanF_Theta_O2         108451 non-null  float64\n",
            " 64  SpectralEdge_Theta_O2  108451 non-null  float64\n",
            " 65  PeakF_Theta_O2         108451 non-null  float64\n",
            " 66  MeanP_Delta_O2         108451 non-null  float64\n",
            " 67  MedianF_Delta_O2       108451 non-null  float64\n",
            " 68  MeanF_Delta_O2         108451 non-null  float64\n",
            " 69  SpectralEdge_Delta_O2  108451 non-null  float64\n",
            " 70  PeakF_Delta_O2         108451 non-null  float64\n",
            " 71  MeanP_Gamma_O2         108451 non-null  float64\n",
            " 72  MedianF_Gamma_O2       108451 non-null  float64\n",
            " 73  MeanF_Gamma_O2         108451 non-null  float64\n",
            " 74  SpectralEdge_Gamma_O2  108451 non-null  float64\n",
            " 75  PeakF_Gamma_O2         108451 non-null  float64\n",
            "dtypes: float64(75), object(1)\n",
            "memory usage: 62.9+ MB\n"
          ]
        }
      ]
    },
    {
      "cell_type": "code",
      "source": [
        "target=\"Sleep_Stage\""
      ],
      "metadata": {
        "id": "hltzPzJVzTAS"
      },
      "execution_count": 36,
      "outputs": []
    },
    {
      "cell_type": "code",
      "source": [
        "df[\"Sleep_Stage\"].value_counts()"
      ],
      "metadata": {
        "colab": {
          "base_uri": "https://localhost:8080/"
        },
        "id": "wYzi0VqV0LxJ",
        "outputId": "df845a72-da47-4d7e-f57b-19f091e391a8"
      },
      "execution_count": 37,
      "outputs": [
        {
          "output_type": "execute_result",
          "data": {
            "text/plain": [
              "N2    39428\n",
              "N3    21290\n",
              "W     19355\n",
              "R     16465\n",
              "N1    11913\n",
              "Name: Sleep_Stage, dtype: int64"
            ]
          },
          "metadata": {},
          "execution_count": 37
        }
      ]
    },
    {
      "cell_type": "code",
      "source": [
        "from sklearn.preprocessing import LabelEncoder\n",
        "encd = LabelEncoder()"
      ],
      "metadata": {
        "id": "agq5Zi1Y3TNh"
      },
      "execution_count": 38,
      "outputs": []
    },
    {
      "cell_type": "code",
      "source": [
        "df[\"Sleep_Stage\"] = encd.fit_transform(df[\"Sleep_Stage\"])"
      ],
      "metadata": {
        "id": "sYjo5wWi1DCy"
      },
      "execution_count": 39,
      "outputs": []
    },
    {
      "cell_type": "code",
      "source": [
        "df[\"Sleep_Stage\"].value_counts()"
      ],
      "metadata": {
        "colab": {
          "base_uri": "https://localhost:8080/"
        },
        "id": "GgpmU0Xu3gHB",
        "outputId": "197d839e-11c5-4816-c213-4f8bd89e3702"
      },
      "execution_count": 40,
      "outputs": [
        {
          "output_type": "execute_result",
          "data": {
            "text/plain": [
              "1    39428\n",
              "2    21290\n",
              "4    19355\n",
              "3    16465\n",
              "0    11913\n",
              "Name: Sleep_Stage, dtype: int64"
            ]
          },
          "metadata": {},
          "execution_count": 40
        }
      ]
    },
    {
      "cell_type": "code",
      "source": [
        "target=\"Sleep_Stage\""
      ],
      "metadata": {
        "id": "RIzDPPiP3kkw"
      },
      "execution_count": 41,
      "outputs": []
    },
    {
      "cell_type": "code",
      "source": [
        "X = df.loc[:,df.columns != target]\n",
        "y = df[target]"
      ],
      "metadata": {
        "id": "D7ea4YRg4UOg"
      },
      "execution_count": 42,
      "outputs": []
    },
    {
      "cell_type": "code",
      "source": [
        "!pip install imbalanced-learn"
      ],
      "metadata": {
        "colab": {
          "base_uri": "https://localhost:8080/"
        },
        "id": "YfimuP3l4lFi",
        "outputId": "8d4af1b6-0afc-4dd5-8298-609345996cf2"
      },
      "execution_count": 43,
      "outputs": [
        {
          "output_type": "stream",
          "name": "stdout",
          "text": [
            "Requirement already satisfied: imbalanced-learn in /usr/local/lib/python3.10/dist-packages (0.10.1)\n",
            "Requirement already satisfied: numpy>=1.17.3 in /usr/local/lib/python3.10/dist-packages (from imbalanced-learn) (1.23.5)\n",
            "Requirement already satisfied: scipy>=1.3.2 in /usr/local/lib/python3.10/dist-packages (from imbalanced-learn) (1.10.1)\n",
            "Requirement already satisfied: scikit-learn>=1.0.2 in /usr/local/lib/python3.10/dist-packages (from imbalanced-learn) (1.2.2)\n",
            "Requirement already satisfied: joblib>=1.1.1 in /usr/local/lib/python3.10/dist-packages (from imbalanced-learn) (1.3.2)\n",
            "Requirement already satisfied: threadpoolctl>=2.0.0 in /usr/local/lib/python3.10/dist-packages (from imbalanced-learn) (3.2.0)\n"
          ]
        }
      ]
    },
    {
      "cell_type": "code",
      "source": [
        "y.value_counts()"
      ],
      "metadata": {
        "colab": {
          "base_uri": "https://localhost:8080/"
        },
        "id": "bpGhTuRt4wtR",
        "outputId": "0f0f5a6e-8992-474b-df14-e88138814eeb"
      },
      "execution_count": 44,
      "outputs": [
        {
          "output_type": "execute_result",
          "data": {
            "text/plain": [
              "1    39428\n",
              "2    21290\n",
              "4    19355\n",
              "3    16465\n",
              "0    11913\n",
              "Name: Sleep_Stage, dtype: int64"
            ]
          },
          "metadata": {},
          "execution_count": 44
        }
      ]
    },
    {
      "cell_type": "code",
      "source": [
        "from imblearn.over_sampling import SMOTE\n",
        "\n",
        "smote = SMOTE()\n",
        "X_new,y_new = smote.fit_resample(X,y)"
      ],
      "metadata": {
        "id": "YmUbeeXz44PP"
      },
      "execution_count": 45,
      "outputs": []
    },
    {
      "cell_type": "code",
      "source": [
        "y_new.value_counts()"
      ],
      "metadata": {
        "colab": {
          "base_uri": "https://localhost:8080/"
        },
        "id": "1pbDZT1h5GoY",
        "outputId": "58db46d3-742e-4264-f524-383d3c568f85"
      },
      "execution_count": 46,
      "outputs": [
        {
          "output_type": "execute_result",
          "data": {
            "text/plain": [
              "0    39428\n",
              "1    39428\n",
              "2    39428\n",
              "3    39428\n",
              "4    39428\n",
              "Name: Sleep_Stage, dtype: int64"
            ]
          },
          "metadata": {},
          "execution_count": 46
        }
      ]
    },
    {
      "cell_type": "code",
      "source": [
        "from sklearn.model_selection import train_test_split\n",
        "X_train, X_test, y_train, y_test = train_test_split(X_new,y_new, test_size=0.20)"
      ],
      "metadata": {
        "id": "RpyF2h226lUY"
      },
      "execution_count": 47,
      "outputs": []
    },
    {
      "cell_type": "code",
      "source": [
        "y_train.value_counts()"
      ],
      "metadata": {
        "colab": {
          "base_uri": "https://localhost:8080/"
        },
        "id": "RlQjkwP662Mo",
        "outputId": "a1ca31ab-13ab-4cb1-b50c-16a7115acac2"
      },
      "execution_count": 48,
      "outputs": [
        {
          "output_type": "execute_result",
          "data": {
            "text/plain": [
              "0    31625\n",
              "2    31604\n",
              "4    31536\n",
              "1    31522\n",
              "3    31425\n",
              "Name: Sleep_Stage, dtype: int64"
            ]
          },
          "metadata": {},
          "execution_count": 48
        }
      ]
    },
    {
      "cell_type": "code",
      "source": [
        "y_test.shape"
      ],
      "metadata": {
        "colab": {
          "base_uri": "https://localhost:8080/"
        },
        "id": "juPfAsTX67Yx",
        "outputId": "c1913d59-3878-4f8b-efe9-571121437762"
      },
      "execution_count": 49,
      "outputs": [
        {
          "output_type": "execute_result",
          "data": {
            "text/plain": [
              "(39428,)"
            ]
          },
          "metadata": {},
          "execution_count": 49
        }
      ]
    },
    {
      "cell_type": "markdown",
      "source": [
        "# tree"
      ],
      "metadata": {
        "id": "vAoUjTLV89N_"
      }
    },
    {
      "cell_type": "code",
      "source": [
        "from sklearn import tree\n",
        "clf = tree.DecisionTreeClassifier()\n",
        "clf=clf.fit(X_train,y_train)\n",
        "y_pred = clf.predict(X_test)"
      ],
      "metadata": {
        "id": "TmqdCxgK7ItH"
      },
      "execution_count": 50,
      "outputs": []
    },
    {
      "cell_type": "code",
      "source": [
        "from sklearn.metrics import classification_report, confusion_matrix, accuracy_score\n",
        "print(confusion_matrix(y_test, y_pred))\n",
        "print(classification_report(y_test,y_pred))\n",
        "print(\"Accurecy: \",accuracy_score(y_test, y_pred))"
      ],
      "metadata": {
        "colab": {
          "base_uri": "https://localhost:8080/"
        },
        "id": "2bnucD8l7Y-Y",
        "outputId": "e545baaf-da77-466a-a7c7-46b02be30747"
      },
      "execution_count": 51,
      "outputs": [
        {
          "output_type": "stream",
          "name": "stdout",
          "text": [
            "[[5441  784  106  683  789]\n",
            " [ 978 4964 1045  666  253]\n",
            " [ 195  980 6536   71   42]\n",
            " [ 781  583   87 6398  154]\n",
            " [ 964  236   68  158 6466]]\n",
            "              precision    recall  f1-score   support\n",
            "\n",
            "           0       0.65      0.70      0.67      7803\n",
            "           1       0.66      0.63      0.64      7906\n",
            "           2       0.83      0.84      0.83      7824\n",
            "           3       0.80      0.80      0.80      8003\n",
            "           4       0.84      0.82      0.83      7892\n",
            "\n",
            "    accuracy                           0.76     39428\n",
            "   macro avg       0.76      0.76      0.76     39428\n",
            "weighted avg       0.76      0.76      0.76     39428\n",
            "\n",
            "Accurecy:  0.7559348686212843\n"
          ]
        }
      ]
    },
    {
      "cell_type": "markdown",
      "source": [
        "#RandomForest"
      ],
      "metadata": {
        "id": "gpxJ3tsc83pX"
      }
    },
    {
      "cell_type": "code",
      "source": [
        "%%time\n",
        "from sklearn.ensemble import RandomForestClassifier\n",
        "rf = RandomForestClassifier()\n",
        "rf.fit(X_train, y_train)\n",
        "y_pred = rf.predict(X_test)"
      ],
      "metadata": {
        "colab": {
          "base_uri": "https://localhost:8080/"
        },
        "id": "JtMsnPa470MH",
        "outputId": "c6e7b0b1-5bf3-4fd0-e4fb-8f22d8fca70a"
      },
      "execution_count": 52,
      "outputs": [
        {
          "output_type": "stream",
          "name": "stdout",
          "text": [
            "CPU times: user 3min 6s, sys: 595 ms, total: 3min 7s\n",
            "Wall time: 3min 9s\n"
          ]
        }
      ]
    },
    {
      "cell_type": "code",
      "source": [
        "from sklearn.metrics import classification_report, confusion_matrix, accuracy_score\n",
        "print(confusion_matrix(y_test, y_pred))\n",
        "print(classification_report(y_test,y_pred))\n",
        "print(\"Accurecy: \",accuracy_score(y_test, y_pred))"
      ],
      "metadata": {
        "colab": {
          "base_uri": "https://localhost:8080/"
        },
        "id": "hoouKXTE7_on",
        "outputId": "989f6bd1-ae24-4317-84fe-b85cd675f388"
      },
      "execution_count": 53,
      "outputs": [
        {
          "output_type": "stream",
          "name": "stdout",
          "text": [
            "[[6701  330   30  286  456]\n",
            " [ 657 6087  608  381  173]\n",
            " [ 118  501 7161    3   41]\n",
            " [ 360  166   18 7371   88]\n",
            " [ 486   42    6   28 7330]]\n",
            "              precision    recall  f1-score   support\n",
            "\n",
            "           0       0.81      0.86      0.83      7803\n",
            "           1       0.85      0.77      0.81      7906\n",
            "           2       0.92      0.92      0.92      7824\n",
            "           3       0.91      0.92      0.92      8003\n",
            "           4       0.91      0.93      0.92      7892\n",
            "\n",
            "    accuracy                           0.88     39428\n",
            "   macro avg       0.88      0.88      0.88     39428\n",
            "weighted avg       0.88      0.88      0.88     39428\n",
            "\n",
            "Accurecy:  0.8788170843055696\n"
          ]
        }
      ]
    },
    {
      "cell_type": "markdown",
      "source": [
        "#AdaBoost"
      ],
      "metadata": {
        "id": "XigBn5wX8pT1"
      }
    },
    {
      "cell_type": "code",
      "source": [
        "from sklearn.ensemble import AdaBoostClassifier\n",
        "ada = AdaBoostClassifier()\n",
        "ada.fit(X_train, y_train)\n",
        "y_pred = ada.predict(X_test)"
      ],
      "metadata": {
        "id": "ZPV1LGV68OTv"
      },
      "execution_count": 54,
      "outputs": []
    },
    {
      "cell_type": "code",
      "source": [
        "from sklearn.metrics import classification_report, confusion_matrix, accuracy_score\n",
        "print(confusion_matrix(y_test, y_pred))\n",
        "print(classification_report(y_test,y_pred))\n",
        "print(\"Accurecy: \",accuracy_score(y_test, y_pred))"
      ],
      "metadata": {
        "colab": {
          "base_uri": "https://localhost:8080/"
        },
        "id": "_CNmYdT-8cpJ",
        "outputId": "6891869c-e637-45a5-9c3a-e09b461a9025"
      },
      "execution_count": 55,
      "outputs": [
        {
          "output_type": "stream",
          "name": "stdout",
          "text": [
            "[[2617  761  239 1904 2282]\n",
            " [ 712 3668 2138 1063  325]\n",
            " [ 145  811 6676  131   61]\n",
            " [1205  791  239 5428  340]\n",
            " [1068  132   82  356 6254]]\n",
            "              precision    recall  f1-score   support\n",
            "\n",
            "           0       0.46      0.34      0.39      7803\n",
            "           1       0.60      0.46      0.52      7906\n",
            "           2       0.71      0.85      0.78      7824\n",
            "           3       0.61      0.68      0.64      8003\n",
            "           4       0.68      0.79      0.73      7892\n",
            "\n",
            "    accuracy                           0.63     39428\n",
            "   macro avg       0.61      0.62      0.61     39428\n",
            "weighted avg       0.61      0.63      0.61     39428\n",
            "\n",
            "Accurecy:  0.6250126813432079\n"
          ]
        }
      ]
    },
    {
      "cell_type": "markdown",
      "source": [
        "#Gradient_Boosting"
      ],
      "metadata": {
        "id": "qIyrurZvFLnt"
      }
    },
    {
      "cell_type": "code",
      "source": [
        "from sklearn.ensemble import GradientBoostingClassifier\n",
        "grd = GradientBoostingClassifier()\n",
        "grd.fit(X_train, y_train)\n",
        "y_pred = grd.predict(X_test)"
      ],
      "metadata": {
        "id": "4LgyqDdKFKPt"
      },
      "execution_count": 56,
      "outputs": []
    },
    {
      "cell_type": "code",
      "source": [
        "from sklearn.metrics import classification_report, confusion_matrix, accuracy_score\n",
        "print(confusion_matrix(y_test, y_pred))\n",
        "print(classification_report(y_test,y_pred))\n",
        "print(\"Accurecy: \",accuracy_score(y_test, y_pred))"
      ],
      "metadata": {
        "id": "5WiDrA9KFXM6",
        "outputId": "0d1b2883-e486-44ad-e5e1-cdd9f72fdf98",
        "colab": {
          "base_uri": "https://localhost:8080/"
        }
      },
      "execution_count": 57,
      "outputs": [
        {
          "output_type": "stream",
          "name": "stdout",
          "text": [
            "[[4460  570  127 1272 1374]\n",
            " [ 624 5586  933  542  221]\n",
            " [ 166  883 6678   40   57]\n",
            " [ 961  467  128 6272  175]\n",
            " [ 990  112   34  109 6647]]\n",
            "              precision    recall  f1-score   support\n",
            "\n",
            "           0       0.62      0.57      0.59      7803\n",
            "           1       0.73      0.71      0.72      7906\n",
            "           2       0.85      0.85      0.85      7824\n",
            "           3       0.76      0.78      0.77      8003\n",
            "           4       0.78      0.84      0.81      7892\n",
            "\n",
            "    accuracy                           0.75     39428\n",
            "   macro avg       0.75      0.75      0.75     39428\n",
            "weighted avg       0.75      0.75      0.75     39428\n",
            "\n",
            "Accurecy:  0.7518261134219336\n"
          ]
        }
      ]
    }
  ]
}