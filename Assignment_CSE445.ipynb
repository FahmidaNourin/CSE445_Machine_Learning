{
  "nbformat": 4,
  "nbformat_minor": 0,
  "metadata": {
    "colab": {
      "provenance": [],
      "include_colab_link": true
    },
    "kernelspec": {
      "name": "python3",
      "display_name": "Python 3"
    },
    "language_info": {
      "name": "python"
    }
  },
  "cells": [
    {
      "cell_type": "markdown",
      "metadata": {
        "id": "view-in-github",
        "colab_type": "text"
      },
      "source": [
        "<a href=\"https://colab.research.google.com/github/FahmidaNourin/CSE445_Machine_Learning/blob/main/Assignment_CSE445.ipynb\" target=\"_parent\"><img src=\"https://colab.research.google.com/assets/colab-badge.svg\" alt=\"Open In Colab\"/></a>"
      ]
    },
    {
      "cell_type": "markdown",
      "source": [
        "# Assignment 01"
      ],
      "metadata": {
        "id": "yUYIW59ku-FR"
      }
    },
    {
      "cell_type": "markdown",
      "source": [
        "The dataset contains information of several patients and their corresponding disease. Your task will be to clean this data , visualize it and perform mathematical operation to replace some missing values in the dataset.Please follow the below steps to complete the task:\n",
        "\n",
        "**(1)** Load the excel data file using pandas dataframe.\n",
        "**(2)** Print first 10 rows of the dataframe to identify the features.\n",
        "**(3)** Determine the datatype of the features and whether the data contains any missing values or not (Hint: Print summary of the dataframe).\n",
        "**(4)** If Symptomps of any patient or patients are missing then drop the entire record of those patients.\n",
        "**(5)** Print count values of each disease catagory to identify whether the dataset is balanced or not.\n",
        "**(6)** Create a new dataframe by taking only the Height, Weight and BMI columns of the data\n",
        "**(7)** Convert the dataframe into numpy array\n",
        "**(8)** Replace the missing BMI values in the array by using the height and weight of the patients. The formula for BMI is : weight / height^2\n",
        "**(9)** Replace the BMI column of the previous dataframe with newly obtained values(Hint: Convert the numpy array to a new dataframe giving same column names and replace the BMI column of the old dataframe with the new one)\n",
        "**(10)** Create a barplot of the patients based on their BMI.(4 catagories for the barplot: Underweight(<18.5), Normal(18.5-24.9), Overweight(25-29.9), Obese(>30)) )  \n",
        "\n"
      ],
      "metadata": {
        "id": "r2qSpgfqMql7"
      }
    },
    {
      "cell_type": "code",
      "source": [],
      "metadata": {
        "id": "ghSlRyJUy031"
      },
      "execution_count": null,
      "outputs": []
    },
    {
      "cell_type": "markdown",
      "source": [
        "(1) Load the excel data file using pandas dataframe."
      ],
      "metadata": {
        "id": "-fm1z8eWzoEk"
      }
    },
    {
      "cell_type": "code",
      "source": [
        "import numpy as np\n",
        "import pandas as pd\n",
        "\n",
        "ass_data = pd.read_excel(\"/content/CSE445_Assignment01.xlsx\")"
      ],
      "metadata": {
        "id": "8g_RUAbPvBvv"
      },
      "execution_count": 3,
      "outputs": []
    },
    {
      "cell_type": "markdown",
      "source": [
        "(2) Print first 10 rows of the dataframe to identify the features"
      ],
      "metadata": {
        "id": "yRElGOf9zzvq"
      }
    },
    {
      "cell_type": "code",
      "source": [],
      "metadata": {
        "id": "z4qVVybp3AeR"
      },
      "execution_count": 4,
      "outputs": []
    },
    {
      "cell_type": "markdown",
      "source": [
        "(3) Determine the datatype of the features and whether the data contains any missing values or not (Hint: Print summary of the dataframe)."
      ],
      "metadata": {
        "id": "rt9N2dyi0AO-"
      }
    },
    {
      "cell_type": "code",
      "source": [],
      "metadata": {
        "id": "dvDcfA8Fzg62"
      },
      "execution_count": null,
      "outputs": []
    },
    {
      "cell_type": "markdown",
      "source": [
        "(4) If Symptomps of any patient or patients are missing then drop the entire record of those patients."
      ],
      "metadata": {
        "id": "jq5gw-V80H0p"
      }
    },
    {
      "cell_type": "code",
      "source": [],
      "metadata": {
        "id": "-wV-d2zk0Hgn"
      },
      "execution_count": null,
      "outputs": []
    },
    {
      "cell_type": "markdown",
      "source": [
        "(5) Print count values of each disease catagory to identify whether the dataset is balanced or not."
      ],
      "metadata": {
        "id": "X0MdHnMc0UCC"
      }
    },
    {
      "cell_type": "code",
      "source": [],
      "metadata": {
        "id": "7ws_M8UJ0TsL"
      },
      "execution_count": null,
      "outputs": []
    },
    {
      "cell_type": "markdown",
      "source": [
        "(6) Create a new dataframe by taking only the Height, Weight and BMI columns of the data"
      ],
      "metadata": {
        "id": "Koc8DVtw0d0g"
      }
    },
    {
      "cell_type": "code",
      "source": [],
      "metadata": {
        "id": "ZeJrO7CW0Wf8"
      },
      "execution_count": null,
      "outputs": []
    },
    {
      "cell_type": "markdown",
      "source": [
        "(7) Convert the dataframe into numpy array"
      ],
      "metadata": {
        "id": "XdxyA-iw0ovP"
      }
    },
    {
      "cell_type": "code",
      "source": [],
      "metadata": {
        "id": "3SuNVcoX0hnW"
      },
      "execution_count": null,
      "outputs": []
    },
    {
      "cell_type": "markdown",
      "source": [
        "(8) Replace the missing BMI values in the array by using the height and weight of the patients. The formula for BMI is : weight / height^2"
      ],
      "metadata": {
        "id": "T-M7VDaE0wQr"
      }
    },
    {
      "cell_type": "code",
      "source": [],
      "metadata": {
        "id": "si5nED2d0hkc"
      },
      "execution_count": null,
      "outputs": []
    },
    {
      "cell_type": "markdown",
      "source": [
        "(9) Replace the BMI column of the previous dataframe with newly obtained values(Hint: Convert the numpy array to a new dataframe giving same column names and replace the BMI column of the old dataframe with the new one)"
      ],
      "metadata": {
        "id": "EaQv6hCM037K"
      }
    },
    {
      "cell_type": "code",
      "source": [],
      "metadata": {
        "id": "QmbbuhVe0hhr"
      },
      "execution_count": null,
      "outputs": []
    },
    {
      "cell_type": "markdown",
      "source": [
        "(10) Create a barplot of the patients based on their BMI.(4 catagories for the barplot: Underweight(<18.5), Normal(18.5-24.9), Overweight(25-29.9), Obese(>30)) )"
      ],
      "metadata": {
        "id": "fsKta28u0-3A"
      }
    },
    {
      "cell_type": "code",
      "source": [],
      "metadata": {
        "id": "7FMZKtAv0gf-"
      },
      "execution_count": null,
      "outputs": []
    }
  ]
}