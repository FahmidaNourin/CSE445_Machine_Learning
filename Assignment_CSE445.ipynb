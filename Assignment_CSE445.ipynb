{
  "nbformat": 4,
  "nbformat_minor": 0,
  "metadata": {
    "colab": {
      "provenance": [],
      "include_colab_link": true
    },
    "kernelspec": {
      "name": "python3",
      "display_name": "Python 3"
    },
    "language_info": {
      "name": "python"
    }
  },
  "cells": [
    {
      "cell_type": "markdown",
      "metadata": {
        "id": "view-in-github",
        "colab_type": "text"
      },
      "source": [
        "<a href=\"https://colab.research.google.com/github/FahmidaNourin/CSE445_Machine_Learning/blob/main/Assignment_CSE445.ipynb\" target=\"_parent\"><img src=\"https://colab.research.google.com/assets/colab-badge.svg\" alt=\"Open In Colab\"/></a>"
      ]
    },
    {
      "cell_type": "markdown",
      "source": [
        "# Assignment 01"
      ],
      "metadata": {
        "id": "yUYIW59ku-FR"
      }
    },
    {
      "cell_type": "markdown",
      "source": [
        "The dataset contains information of several patients and their corresponding disease. Your task will be to clean this data , visualize it and perform mathematical operation to replace some missing values in the dataset.Please follow the below steps to complete the task:\n",
        "\n",
        "**(1)** Load the excel data file using pandas dataframe.\n",
        "**(2)** Print first 10 rows of the dataframe to identify the features.\n",
        "**(3)** Determine the datatype of the features and whether the data contains any missing values or not (Hint: Print summary of the dataframe).\n",
        "**(4)** If Symptomps of any patient or patients are missing then drop the entire record of those patients.\n",
        "**(5)** Print count values of each disease catagory to identify whether the dataset is balanced or not.\n",
        "**(6)** Create a new dataframe by taking only the Height, Weight and BMI columns of the data\n",
        "**(7)** Convert the dataframe into numpy array\n",
        "**(8)** Replace the missing BMI values in the array by using the height and weight of the patients. The formula for BMI is : weight / height^2\n",
        "**(9)** Replace the BMI column of the previous dataframe with newly obtained values(Hint: Convert the numpy array to a new dataframe giving same column names and replace the BMI column of the old dataframe with the new one)\n",
        "**(10)** Create a barplot of the patients based on their BMI.(4 catagories for the barplot: Underweight(<18.5), Normal(18.5-24.9), Overweight(25-29.9), Obese(>30)) )  \n",
        "\n"
      ],
      "metadata": {
        "id": "r2qSpgfqMql7"
      }
    },
    {
      "cell_type": "code",
      "source": [],
      "metadata": {
        "id": "ghSlRyJUy031"
      },
      "execution_count": 22,
      "outputs": []
    },
    {
      "cell_type": "markdown",
      "source": [
        "(1) Load the excel data file using pandas dataframe."
      ],
      "metadata": {
        "id": "-fm1z8eWzoEk"
      }
    },
    {
      "cell_type": "code",
      "source": [
        "import numpy as np\n",
        "import pandas as pd\n",
        "\n",
        "ass_data = pd.read_excel(\"/content/CSE445_Assignment01.xlsx\")"
      ],
      "metadata": {
        "id": "8g_RUAbPvBvv"
      },
      "execution_count": 23,
      "outputs": []
    },
    {
      "cell_type": "markdown",
      "source": [
        "(2) Print first 10 rows of the dataframe to identify the features"
      ],
      "metadata": {
        "id": "yRElGOf9zzvq"
      }
    },
    {
      "cell_type": "code",
      "source": [
        "ass_data.head(10)"
      ],
      "metadata": {
        "colab": {
          "base_uri": "https://localhost:8080/",
          "height": 553
        },
        "id": "z4qVVybp3AeR",
        "outputId": "48f9e3fc-886e-4099-ae72-d311d41958c4"
      },
      "execution_count": 24,
      "outputs": [
        {
          "output_type": "execute_result",
          "data": {
            "text/plain": [
              "                                       Clinical_text          Disease  \\\n",
              "0  35 years old Masuma Begum is seeing change in ...  Cronh's Disease   \n",
              "1  Hanif Ahmed at the age of 55 presents to the c...  Cronh's Disease   \n",
              "2  Apu Sarker is a male of 32 years having fecal ...  Cronh's Disease   \n",
              "3  Samia Nasreen, a 24 years old female is having...  Cronh's Disease   \n",
              "4  43 years old Babu Das comes to the clinic for ...  Cronh's Disease   \n",
              "5  67 years old Abdullah is experiencing change i...  Cronh's Disease   \n",
              "6  Ridita Haque, a 19 years old female is having ...  Cronh's Disease   \n",
              "7  Nasir Hasan, a male of 60 years came to the cl...  Cronh's Disease   \n",
              "8  Hiya Tabassum, 23 years old female is experien...  Cronh's Disease   \n",
              "9  46 years old Runa Farhana presents to the clin...  Cronh's Disease   \n",
              "\n",
              "                                            Symptoms  Height (m)  Weight (kg)  \\\n",
              "0                   ['burning sensations', 'sweats']        1.61           80   \n",
              "1  ['bowel incontinence', 'swelling', 'sweats', '...        1.63           59   \n",
              "2                  ['fecal incontinence', 'itching']        1.62           60   \n",
              "3                 ['bleeding', 'swelling', 'sweats']        1.71           53   \n",
              "4  ['fecal incontinence', 'sweats', 'itching sens...        1.64           69   \n",
              "5                   ['itching sensations', 'sweats']        1.77           92   \n",
              "6                            ['itching', 'swelling']        1.69           50   \n",
              "7       ['bowel incontinence', 'bleeding', 'sweats']        1.72           89   \n",
              "8                  ['itching', 'swelling', 'sweats']        1.64           74   \n",
              "9      ['bowel incontinence', 'swelling', 'itching']        1.69           66   \n",
              "\n",
              "     BMI  \n",
              "0  30.86  \n",
              "1  22.21  \n",
              "2  22.86  \n",
              "3  18.13  \n",
              "4  25.65  \n",
              "5  29.37  \n",
              "6  17.51  \n",
              "7  30.08  \n",
              "8  27.51  \n",
              "9  23.11  "
            ],
            "text/html": [
              "\n",
              "  <div id=\"df-90a11c6d-871a-4348-92fc-220bc3392e37\" class=\"colab-df-container\">\n",
              "    <div>\n",
              "<style scoped>\n",
              "    .dataframe tbody tr th:only-of-type {\n",
              "        vertical-align: middle;\n",
              "    }\n",
              "\n",
              "    .dataframe tbody tr th {\n",
              "        vertical-align: top;\n",
              "    }\n",
              "\n",
              "    .dataframe thead th {\n",
              "        text-align: right;\n",
              "    }\n",
              "</style>\n",
              "<table border=\"1\" class=\"dataframe\">\n",
              "  <thead>\n",
              "    <tr style=\"text-align: right;\">\n",
              "      <th></th>\n",
              "      <th>Clinical_text</th>\n",
              "      <th>Disease</th>\n",
              "      <th>Symptoms</th>\n",
              "      <th>Height (m)</th>\n",
              "      <th>Weight (kg)</th>\n",
              "      <th>BMI</th>\n",
              "    </tr>\n",
              "  </thead>\n",
              "  <tbody>\n",
              "    <tr>\n",
              "      <th>0</th>\n",
              "      <td>35 years old Masuma Begum is seeing change in ...</td>\n",
              "      <td>Cronh's Disease</td>\n",
              "      <td>['burning sensations', 'sweats']</td>\n",
              "      <td>1.61</td>\n",
              "      <td>80</td>\n",
              "      <td>30.86</td>\n",
              "    </tr>\n",
              "    <tr>\n",
              "      <th>1</th>\n",
              "      <td>Hanif Ahmed at the age of 55 presents to the c...</td>\n",
              "      <td>Cronh's Disease</td>\n",
              "      <td>['bowel incontinence', 'swelling', 'sweats', '...</td>\n",
              "      <td>1.63</td>\n",
              "      <td>59</td>\n",
              "      <td>22.21</td>\n",
              "    </tr>\n",
              "    <tr>\n",
              "      <th>2</th>\n",
              "      <td>Apu Sarker is a male of 32 years having fecal ...</td>\n",
              "      <td>Cronh's Disease</td>\n",
              "      <td>['fecal incontinence', 'itching']</td>\n",
              "      <td>1.62</td>\n",
              "      <td>60</td>\n",
              "      <td>22.86</td>\n",
              "    </tr>\n",
              "    <tr>\n",
              "      <th>3</th>\n",
              "      <td>Samia Nasreen, a 24 years old female is having...</td>\n",
              "      <td>Cronh's Disease</td>\n",
              "      <td>['bleeding', 'swelling', 'sweats']</td>\n",
              "      <td>1.71</td>\n",
              "      <td>53</td>\n",
              "      <td>18.13</td>\n",
              "    </tr>\n",
              "    <tr>\n",
              "      <th>4</th>\n",
              "      <td>43 years old Babu Das comes to the clinic for ...</td>\n",
              "      <td>Cronh's Disease</td>\n",
              "      <td>['fecal incontinence', 'sweats', 'itching sens...</td>\n",
              "      <td>1.64</td>\n",
              "      <td>69</td>\n",
              "      <td>25.65</td>\n",
              "    </tr>\n",
              "    <tr>\n",
              "      <th>5</th>\n",
              "      <td>67 years old Abdullah is experiencing change i...</td>\n",
              "      <td>Cronh's Disease</td>\n",
              "      <td>['itching sensations', 'sweats']</td>\n",
              "      <td>1.77</td>\n",
              "      <td>92</td>\n",
              "      <td>29.37</td>\n",
              "    </tr>\n",
              "    <tr>\n",
              "      <th>6</th>\n",
              "      <td>Ridita Haque, a 19 years old female is having ...</td>\n",
              "      <td>Cronh's Disease</td>\n",
              "      <td>['itching', 'swelling']</td>\n",
              "      <td>1.69</td>\n",
              "      <td>50</td>\n",
              "      <td>17.51</td>\n",
              "    </tr>\n",
              "    <tr>\n",
              "      <th>7</th>\n",
              "      <td>Nasir Hasan, a male of 60 years came to the cl...</td>\n",
              "      <td>Cronh's Disease</td>\n",
              "      <td>['bowel incontinence', 'bleeding', 'sweats']</td>\n",
              "      <td>1.72</td>\n",
              "      <td>89</td>\n",
              "      <td>30.08</td>\n",
              "    </tr>\n",
              "    <tr>\n",
              "      <th>8</th>\n",
              "      <td>Hiya Tabassum, 23 years old female is experien...</td>\n",
              "      <td>Cronh's Disease</td>\n",
              "      <td>['itching', 'swelling', 'sweats']</td>\n",
              "      <td>1.64</td>\n",
              "      <td>74</td>\n",
              "      <td>27.51</td>\n",
              "    </tr>\n",
              "    <tr>\n",
              "      <th>9</th>\n",
              "      <td>46 years old Runa Farhana presents to the clin...</td>\n",
              "      <td>Cronh's Disease</td>\n",
              "      <td>['bowel incontinence', 'swelling', 'itching']</td>\n",
              "      <td>1.69</td>\n",
              "      <td>66</td>\n",
              "      <td>23.11</td>\n",
              "    </tr>\n",
              "  </tbody>\n",
              "</table>\n",
              "</div>\n",
              "    <div class=\"colab-df-buttons\">\n",
              "\n",
              "  <div class=\"colab-df-container\">\n",
              "    <button class=\"colab-df-convert\" onclick=\"convertToInteractive('df-90a11c6d-871a-4348-92fc-220bc3392e37')\"\n",
              "            title=\"Convert this dataframe to an interactive table.\"\n",
              "            style=\"display:none;\">\n",
              "\n",
              "  <svg xmlns=\"http://www.w3.org/2000/svg\" height=\"24px\" viewBox=\"0 -960 960 960\">\n",
              "    <path d=\"M120-120v-720h720v720H120Zm60-500h600v-160H180v160Zm220 220h160v-160H400v160Zm0 220h160v-160H400v160ZM180-400h160v-160H180v160Zm440 0h160v-160H620v160ZM180-180h160v-160H180v160Zm440 0h160v-160H620v160Z\"/>\n",
              "  </svg>\n",
              "    </button>\n",
              "\n",
              "  <style>\n",
              "    .colab-df-container {\n",
              "      display:flex;\n",
              "      gap: 12px;\n",
              "    }\n",
              "\n",
              "    .colab-df-convert {\n",
              "      background-color: #E8F0FE;\n",
              "      border: none;\n",
              "      border-radius: 50%;\n",
              "      cursor: pointer;\n",
              "      display: none;\n",
              "      fill: #1967D2;\n",
              "      height: 32px;\n",
              "      padding: 0 0 0 0;\n",
              "      width: 32px;\n",
              "    }\n",
              "\n",
              "    .colab-df-convert:hover {\n",
              "      background-color: #E2EBFA;\n",
              "      box-shadow: 0px 1px 2px rgba(60, 64, 67, 0.3), 0px 1px 3px 1px rgba(60, 64, 67, 0.15);\n",
              "      fill: #174EA6;\n",
              "    }\n",
              "\n",
              "    .colab-df-buttons div {\n",
              "      margin-bottom: 4px;\n",
              "    }\n",
              "\n",
              "    [theme=dark] .colab-df-convert {\n",
              "      background-color: #3B4455;\n",
              "      fill: #D2E3FC;\n",
              "    }\n",
              "\n",
              "    [theme=dark] .colab-df-convert:hover {\n",
              "      background-color: #434B5C;\n",
              "      box-shadow: 0px 1px 3px 1px rgba(0, 0, 0, 0.15);\n",
              "      filter: drop-shadow(0px 1px 2px rgba(0, 0, 0, 0.3));\n",
              "      fill: #FFFFFF;\n",
              "    }\n",
              "  </style>\n",
              "\n",
              "    <script>\n",
              "      const buttonEl =\n",
              "        document.querySelector('#df-90a11c6d-871a-4348-92fc-220bc3392e37 button.colab-df-convert');\n",
              "      buttonEl.style.display =\n",
              "        google.colab.kernel.accessAllowed ? 'block' : 'none';\n",
              "\n",
              "      async function convertToInteractive(key) {\n",
              "        const element = document.querySelector('#df-90a11c6d-871a-4348-92fc-220bc3392e37');\n",
              "        const dataTable =\n",
              "          await google.colab.kernel.invokeFunction('convertToInteractive',\n",
              "                                                    [key], {});\n",
              "        if (!dataTable) return;\n",
              "\n",
              "        const docLinkHtml = 'Like what you see? Visit the ' +\n",
              "          '<a target=\"_blank\" href=https://colab.research.google.com/notebooks/data_table.ipynb>data table notebook</a>'\n",
              "          + ' to learn more about interactive tables.';\n",
              "        element.innerHTML = '';\n",
              "        dataTable['output_type'] = 'display_data';\n",
              "        await google.colab.output.renderOutput(dataTable, element);\n",
              "        const docLink = document.createElement('div');\n",
              "        docLink.innerHTML = docLinkHtml;\n",
              "        element.appendChild(docLink);\n",
              "      }\n",
              "    </script>\n",
              "  </div>\n",
              "\n",
              "\n",
              "<div id=\"df-07fc6b7e-3bbc-49e5-94f0-718e32e80271\">\n",
              "  <button class=\"colab-df-quickchart\" onclick=\"quickchart('df-07fc6b7e-3bbc-49e5-94f0-718e32e80271')\"\n",
              "            title=\"Suggest charts.\"\n",
              "            style=\"display:none;\">\n",
              "\n",
              "<svg xmlns=\"http://www.w3.org/2000/svg\" height=\"24px\"viewBox=\"0 0 24 24\"\n",
              "     width=\"24px\">\n",
              "    <g>\n",
              "        <path d=\"M19 3H5c-1.1 0-2 .9-2 2v14c0 1.1.9 2 2 2h14c1.1 0 2-.9 2-2V5c0-1.1-.9-2-2-2zM9 17H7v-7h2v7zm4 0h-2V7h2v10zm4 0h-2v-4h2v4z\"/>\n",
              "    </g>\n",
              "</svg>\n",
              "  </button>\n",
              "\n",
              "<style>\n",
              "  .colab-df-quickchart {\n",
              "      --bg-color: #E8F0FE;\n",
              "      --fill-color: #1967D2;\n",
              "      --hover-bg-color: #E2EBFA;\n",
              "      --hover-fill-color: #174EA6;\n",
              "      --disabled-fill-color: #AAA;\n",
              "      --disabled-bg-color: #DDD;\n",
              "  }\n",
              "\n",
              "  [theme=dark] .colab-df-quickchart {\n",
              "      --bg-color: #3B4455;\n",
              "      --fill-color: #D2E3FC;\n",
              "      --hover-bg-color: #434B5C;\n",
              "      --hover-fill-color: #FFFFFF;\n",
              "      --disabled-bg-color: #3B4455;\n",
              "      --disabled-fill-color: #666;\n",
              "  }\n",
              "\n",
              "  .colab-df-quickchart {\n",
              "    background-color: var(--bg-color);\n",
              "    border: none;\n",
              "    border-radius: 50%;\n",
              "    cursor: pointer;\n",
              "    display: none;\n",
              "    fill: var(--fill-color);\n",
              "    height: 32px;\n",
              "    padding: 0;\n",
              "    width: 32px;\n",
              "  }\n",
              "\n",
              "  .colab-df-quickchart:hover {\n",
              "    background-color: var(--hover-bg-color);\n",
              "    box-shadow: 0 1px 2px rgba(60, 64, 67, 0.3), 0 1px 3px 1px rgba(60, 64, 67, 0.15);\n",
              "    fill: var(--button-hover-fill-color);\n",
              "  }\n",
              "\n",
              "  .colab-df-quickchart-complete:disabled,\n",
              "  .colab-df-quickchart-complete:disabled:hover {\n",
              "    background-color: var(--disabled-bg-color);\n",
              "    fill: var(--disabled-fill-color);\n",
              "    box-shadow: none;\n",
              "  }\n",
              "\n",
              "  .colab-df-spinner {\n",
              "    border: 2px solid var(--fill-color);\n",
              "    border-color: transparent;\n",
              "    border-bottom-color: var(--fill-color);\n",
              "    animation:\n",
              "      spin 1s steps(1) infinite;\n",
              "  }\n",
              "\n",
              "  @keyframes spin {\n",
              "    0% {\n",
              "      border-color: transparent;\n",
              "      border-bottom-color: var(--fill-color);\n",
              "      border-left-color: var(--fill-color);\n",
              "    }\n",
              "    20% {\n",
              "      border-color: transparent;\n",
              "      border-left-color: var(--fill-color);\n",
              "      border-top-color: var(--fill-color);\n",
              "    }\n",
              "    30% {\n",
              "      border-color: transparent;\n",
              "      border-left-color: var(--fill-color);\n",
              "      border-top-color: var(--fill-color);\n",
              "      border-right-color: var(--fill-color);\n",
              "    }\n",
              "    40% {\n",
              "      border-color: transparent;\n",
              "      border-right-color: var(--fill-color);\n",
              "      border-top-color: var(--fill-color);\n",
              "    }\n",
              "    60% {\n",
              "      border-color: transparent;\n",
              "      border-right-color: var(--fill-color);\n",
              "    }\n",
              "    80% {\n",
              "      border-color: transparent;\n",
              "      border-right-color: var(--fill-color);\n",
              "      border-bottom-color: var(--fill-color);\n",
              "    }\n",
              "    90% {\n",
              "      border-color: transparent;\n",
              "      border-bottom-color: var(--fill-color);\n",
              "    }\n",
              "  }\n",
              "</style>\n",
              "\n",
              "  <script>\n",
              "    async function quickchart(key) {\n",
              "      const quickchartButtonEl =\n",
              "        document.querySelector('#' + key + ' button');\n",
              "      quickchartButtonEl.disabled = true;  // To prevent multiple clicks.\n",
              "      quickchartButtonEl.classList.add('colab-df-spinner');\n",
              "      try {\n",
              "        const charts = await google.colab.kernel.invokeFunction(\n",
              "            'suggestCharts', [key], {});\n",
              "      } catch (error) {\n",
              "        console.error('Error during call to suggestCharts:', error);\n",
              "      }\n",
              "      quickchartButtonEl.classList.remove('colab-df-spinner');\n",
              "      quickchartButtonEl.classList.add('colab-df-quickchart-complete');\n",
              "    }\n",
              "    (() => {\n",
              "      let quickchartButtonEl =\n",
              "        document.querySelector('#df-07fc6b7e-3bbc-49e5-94f0-718e32e80271 button');\n",
              "      quickchartButtonEl.style.display =\n",
              "        google.colab.kernel.accessAllowed ? 'block' : 'none';\n",
              "    })();\n",
              "  </script>\n",
              "</div>\n",
              "    </div>\n",
              "  </div>\n"
            ]
          },
          "metadata": {},
          "execution_count": 24
        }
      ]
    },
    {
      "cell_type": "markdown",
      "source": [
        "(3) Determine the datatype of the features and whether the data contains any missing values or not (Hint: Print summary of the dataframe)."
      ],
      "metadata": {
        "id": "rt9N2dyi0AO-"
      }
    },
    {
      "cell_type": "code",
      "source": [
        "ass_data.info()"
      ],
      "metadata": {
        "colab": {
          "base_uri": "https://localhost:8080/"
        },
        "id": "dvDcfA8Fzg62",
        "outputId": "2325f257-3ac4-4187-a241-700760022c2f"
      },
      "execution_count": 25,
      "outputs": [
        {
          "output_type": "stream",
          "name": "stdout",
          "text": [
            "<class 'pandas.core.frame.DataFrame'>\n",
            "RangeIndex: 359 entries, 0 to 358\n",
            "Data columns (total 6 columns):\n",
            " #   Column         Non-Null Count  Dtype  \n",
            "---  ------         --------------  -----  \n",
            " 0   Clinical_text  359 non-null    object \n",
            " 1   Disease        359 non-null    object \n",
            " 2   Symptoms       354 non-null    object \n",
            " 3   Height (m)     359 non-null    float64\n",
            " 4   Weight (kg)    359 non-null    int64  \n",
            " 5   BMI            349 non-null    float64\n",
            "dtypes: float64(2), int64(1), object(3)\n",
            "memory usage: 17.0+ KB\n"
          ]
        }
      ]
    },
    {
      "cell_type": "markdown",
      "source": [
        "(4) If Symptomps of any patient or patients are missing then drop the entire record of those patients."
      ],
      "metadata": {
        "id": "jq5gw-V80H0p"
      }
    },
    {
      "cell_type": "code",
      "source": [
        "ass_data.dropna(subset = ['Symptoms'], inplace=True)"
      ],
      "metadata": {
        "id": "-wV-d2zk0Hgn"
      },
      "execution_count": 26,
      "outputs": []
    },
    {
      "cell_type": "code",
      "source": [
        "ass_data.info()"
      ],
      "metadata": {
        "colab": {
          "base_uri": "https://localhost:8080/"
        },
        "id": "HrHxTEGW7sa_",
        "outputId": "52b601d3-8b58-4426-8ce5-ec2d6e92717d"
      },
      "execution_count": 27,
      "outputs": [
        {
          "output_type": "stream",
          "name": "stdout",
          "text": [
            "<class 'pandas.core.frame.DataFrame'>\n",
            "Int64Index: 354 entries, 0 to 358\n",
            "Data columns (total 6 columns):\n",
            " #   Column         Non-Null Count  Dtype  \n",
            "---  ------         --------------  -----  \n",
            " 0   Clinical_text  354 non-null    object \n",
            " 1   Disease        354 non-null    object \n",
            " 2   Symptoms       354 non-null    object \n",
            " 3   Height (m)     354 non-null    float64\n",
            " 4   Weight (kg)    354 non-null    int64  \n",
            " 5   BMI            344 non-null    float64\n",
            "dtypes: float64(2), int64(1), object(3)\n",
            "memory usage: 19.4+ KB\n"
          ]
        }
      ]
    },
    {
      "cell_type": "markdown",
      "source": [
        "(5) Print count values of each disease catagory to identify whether the dataset is balanced or not."
      ],
      "metadata": {
        "id": "X0MdHnMc0UCC"
      }
    },
    {
      "cell_type": "code",
      "source": [
        "ass_data[\"Disease\"].value_counts()"
      ],
      "metadata": {
        "colab": {
          "base_uri": "https://localhost:8080/"
        },
        "id": "I4QVI8EG8j6A",
        "outputId": "d0f5fbab-578e-459f-8201-2ba5d8a46bfa"
      },
      "execution_count": 28,
      "outputs": [
        {
          "output_type": "execute_result",
          "data": {
            "text/plain": [
              "Depression              60\n",
              "Hay Fever               55\n",
              "Parkinson's Disease     50\n",
              "Stress                  50\n",
              "Hepatitis B             50\n",
              "Raynaud's phenomenon    50\n",
              "Cronh's Disease         39\n",
              "Name: Disease, dtype: int64"
            ]
          },
          "metadata": {},
          "execution_count": 28
        }
      ]
    },
    {
      "cell_type": "markdown",
      "source": [
        "(6) Create a new dataframe by taking only the Height, Weight and BMI columns of the data"
      ],
      "metadata": {
        "id": "Koc8DVtw0d0g"
      }
    },
    {
      "cell_type": "code",
      "source": [
        "new_ass_data = ass_data[[\"Height (m)\",\"Weight (kg)\",\"BMI\"]]"
      ],
      "metadata": {
        "id": "ZeJrO7CW0Wf8"
      },
      "execution_count": 30,
      "outputs": []
    },
    {
      "cell_type": "code",
      "source": [
        "new_ass_data"
      ],
      "metadata": {
        "colab": {
          "base_uri": "https://localhost:8080/",
          "height": 423
        },
        "id": "69q3bwjlA75d",
        "outputId": "1a180c77-d7b8-47e5-cfc2-84ee5819a5dd"
      },
      "execution_count": 31,
      "outputs": [
        {
          "output_type": "execute_result",
          "data": {
            "text/plain": [
              "     Height (m)  Weight (kg)    BMI\n",
              "0          1.61           80  30.86\n",
              "1          1.63           59  22.21\n",
              "2          1.62           60  22.86\n",
              "3          1.71           53  18.13\n",
              "4          1.64           69  25.65\n",
              "..          ...          ...    ...\n",
              "354        1.82           98  29.59\n",
              "355        1.80           98  30.25\n",
              "356        1.77           61  19.47\n",
              "357        1.61           88  33.95\n",
              "358        1.72           78  26.37\n",
              "\n",
              "[354 rows x 3 columns]"
            ],
            "text/html": [
              "\n",
              "  <div id=\"df-b509092d-13fb-4145-96f5-c61eeca52438\" class=\"colab-df-container\">\n",
              "    <div>\n",
              "<style scoped>\n",
              "    .dataframe tbody tr th:only-of-type {\n",
              "        vertical-align: middle;\n",
              "    }\n",
              "\n",
              "    .dataframe tbody tr th {\n",
              "        vertical-align: top;\n",
              "    }\n",
              "\n",
              "    .dataframe thead th {\n",
              "        text-align: right;\n",
              "    }\n",
              "</style>\n",
              "<table border=\"1\" class=\"dataframe\">\n",
              "  <thead>\n",
              "    <tr style=\"text-align: right;\">\n",
              "      <th></th>\n",
              "      <th>Height (m)</th>\n",
              "      <th>Weight (kg)</th>\n",
              "      <th>BMI</th>\n",
              "    </tr>\n",
              "  </thead>\n",
              "  <tbody>\n",
              "    <tr>\n",
              "      <th>0</th>\n",
              "      <td>1.61</td>\n",
              "      <td>80</td>\n",
              "      <td>30.86</td>\n",
              "    </tr>\n",
              "    <tr>\n",
              "      <th>1</th>\n",
              "      <td>1.63</td>\n",
              "      <td>59</td>\n",
              "      <td>22.21</td>\n",
              "    </tr>\n",
              "    <tr>\n",
              "      <th>2</th>\n",
              "      <td>1.62</td>\n",
              "      <td>60</td>\n",
              "      <td>22.86</td>\n",
              "    </tr>\n",
              "    <tr>\n",
              "      <th>3</th>\n",
              "      <td>1.71</td>\n",
              "      <td>53</td>\n",
              "      <td>18.13</td>\n",
              "    </tr>\n",
              "    <tr>\n",
              "      <th>4</th>\n",
              "      <td>1.64</td>\n",
              "      <td>69</td>\n",
              "      <td>25.65</td>\n",
              "    </tr>\n",
              "    <tr>\n",
              "      <th>...</th>\n",
              "      <td>...</td>\n",
              "      <td>...</td>\n",
              "      <td>...</td>\n",
              "    </tr>\n",
              "    <tr>\n",
              "      <th>354</th>\n",
              "      <td>1.82</td>\n",
              "      <td>98</td>\n",
              "      <td>29.59</td>\n",
              "    </tr>\n",
              "    <tr>\n",
              "      <th>355</th>\n",
              "      <td>1.80</td>\n",
              "      <td>98</td>\n",
              "      <td>30.25</td>\n",
              "    </tr>\n",
              "    <tr>\n",
              "      <th>356</th>\n",
              "      <td>1.77</td>\n",
              "      <td>61</td>\n",
              "      <td>19.47</td>\n",
              "    </tr>\n",
              "    <tr>\n",
              "      <th>357</th>\n",
              "      <td>1.61</td>\n",
              "      <td>88</td>\n",
              "      <td>33.95</td>\n",
              "    </tr>\n",
              "    <tr>\n",
              "      <th>358</th>\n",
              "      <td>1.72</td>\n",
              "      <td>78</td>\n",
              "      <td>26.37</td>\n",
              "    </tr>\n",
              "  </tbody>\n",
              "</table>\n",
              "<p>354 rows × 3 columns</p>\n",
              "</div>\n",
              "    <div class=\"colab-df-buttons\">\n",
              "\n",
              "  <div class=\"colab-df-container\">\n",
              "    <button class=\"colab-df-convert\" onclick=\"convertToInteractive('df-b509092d-13fb-4145-96f5-c61eeca52438')\"\n",
              "            title=\"Convert this dataframe to an interactive table.\"\n",
              "            style=\"display:none;\">\n",
              "\n",
              "  <svg xmlns=\"http://www.w3.org/2000/svg\" height=\"24px\" viewBox=\"0 -960 960 960\">\n",
              "    <path d=\"M120-120v-720h720v720H120Zm60-500h600v-160H180v160Zm220 220h160v-160H400v160Zm0 220h160v-160H400v160ZM180-400h160v-160H180v160Zm440 0h160v-160H620v160ZM180-180h160v-160H180v160Zm440 0h160v-160H620v160Z\"/>\n",
              "  </svg>\n",
              "    </button>\n",
              "\n",
              "  <style>\n",
              "    .colab-df-container {\n",
              "      display:flex;\n",
              "      gap: 12px;\n",
              "    }\n",
              "\n",
              "    .colab-df-convert {\n",
              "      background-color: #E8F0FE;\n",
              "      border: none;\n",
              "      border-radius: 50%;\n",
              "      cursor: pointer;\n",
              "      display: none;\n",
              "      fill: #1967D2;\n",
              "      height: 32px;\n",
              "      padding: 0 0 0 0;\n",
              "      width: 32px;\n",
              "    }\n",
              "\n",
              "    .colab-df-convert:hover {\n",
              "      background-color: #E2EBFA;\n",
              "      box-shadow: 0px 1px 2px rgba(60, 64, 67, 0.3), 0px 1px 3px 1px rgba(60, 64, 67, 0.15);\n",
              "      fill: #174EA6;\n",
              "    }\n",
              "\n",
              "    .colab-df-buttons div {\n",
              "      margin-bottom: 4px;\n",
              "    }\n",
              "\n",
              "    [theme=dark] .colab-df-convert {\n",
              "      background-color: #3B4455;\n",
              "      fill: #D2E3FC;\n",
              "    }\n",
              "\n",
              "    [theme=dark] .colab-df-convert:hover {\n",
              "      background-color: #434B5C;\n",
              "      box-shadow: 0px 1px 3px 1px rgba(0, 0, 0, 0.15);\n",
              "      filter: drop-shadow(0px 1px 2px rgba(0, 0, 0, 0.3));\n",
              "      fill: #FFFFFF;\n",
              "    }\n",
              "  </style>\n",
              "\n",
              "    <script>\n",
              "      const buttonEl =\n",
              "        document.querySelector('#df-b509092d-13fb-4145-96f5-c61eeca52438 button.colab-df-convert');\n",
              "      buttonEl.style.display =\n",
              "        google.colab.kernel.accessAllowed ? 'block' : 'none';\n",
              "\n",
              "      async function convertToInteractive(key) {\n",
              "        const element = document.querySelector('#df-b509092d-13fb-4145-96f5-c61eeca52438');\n",
              "        const dataTable =\n",
              "          await google.colab.kernel.invokeFunction('convertToInteractive',\n",
              "                                                    [key], {});\n",
              "        if (!dataTable) return;\n",
              "\n",
              "        const docLinkHtml = 'Like what you see? Visit the ' +\n",
              "          '<a target=\"_blank\" href=https://colab.research.google.com/notebooks/data_table.ipynb>data table notebook</a>'\n",
              "          + ' to learn more about interactive tables.';\n",
              "        element.innerHTML = '';\n",
              "        dataTable['output_type'] = 'display_data';\n",
              "        await google.colab.output.renderOutput(dataTable, element);\n",
              "        const docLink = document.createElement('div');\n",
              "        docLink.innerHTML = docLinkHtml;\n",
              "        element.appendChild(docLink);\n",
              "      }\n",
              "    </script>\n",
              "  </div>\n",
              "\n",
              "\n",
              "<div id=\"df-a52d5018-0659-4351-b91a-b8f82b892348\">\n",
              "  <button class=\"colab-df-quickchart\" onclick=\"quickchart('df-a52d5018-0659-4351-b91a-b8f82b892348')\"\n",
              "            title=\"Suggest charts.\"\n",
              "            style=\"display:none;\">\n",
              "\n",
              "<svg xmlns=\"http://www.w3.org/2000/svg\" height=\"24px\"viewBox=\"0 0 24 24\"\n",
              "     width=\"24px\">\n",
              "    <g>\n",
              "        <path d=\"M19 3H5c-1.1 0-2 .9-2 2v14c0 1.1.9 2 2 2h14c1.1 0 2-.9 2-2V5c0-1.1-.9-2-2-2zM9 17H7v-7h2v7zm4 0h-2V7h2v10zm4 0h-2v-4h2v4z\"/>\n",
              "    </g>\n",
              "</svg>\n",
              "  </button>\n",
              "\n",
              "<style>\n",
              "  .colab-df-quickchart {\n",
              "      --bg-color: #E8F0FE;\n",
              "      --fill-color: #1967D2;\n",
              "      --hover-bg-color: #E2EBFA;\n",
              "      --hover-fill-color: #174EA6;\n",
              "      --disabled-fill-color: #AAA;\n",
              "      --disabled-bg-color: #DDD;\n",
              "  }\n",
              "\n",
              "  [theme=dark] .colab-df-quickchart {\n",
              "      --bg-color: #3B4455;\n",
              "      --fill-color: #D2E3FC;\n",
              "      --hover-bg-color: #434B5C;\n",
              "      --hover-fill-color: #FFFFFF;\n",
              "      --disabled-bg-color: #3B4455;\n",
              "      --disabled-fill-color: #666;\n",
              "  }\n",
              "\n",
              "  .colab-df-quickchart {\n",
              "    background-color: var(--bg-color);\n",
              "    border: none;\n",
              "    border-radius: 50%;\n",
              "    cursor: pointer;\n",
              "    display: none;\n",
              "    fill: var(--fill-color);\n",
              "    height: 32px;\n",
              "    padding: 0;\n",
              "    width: 32px;\n",
              "  }\n",
              "\n",
              "  .colab-df-quickchart:hover {\n",
              "    background-color: var(--hover-bg-color);\n",
              "    box-shadow: 0 1px 2px rgba(60, 64, 67, 0.3), 0 1px 3px 1px rgba(60, 64, 67, 0.15);\n",
              "    fill: var(--button-hover-fill-color);\n",
              "  }\n",
              "\n",
              "  .colab-df-quickchart-complete:disabled,\n",
              "  .colab-df-quickchart-complete:disabled:hover {\n",
              "    background-color: var(--disabled-bg-color);\n",
              "    fill: var(--disabled-fill-color);\n",
              "    box-shadow: none;\n",
              "  }\n",
              "\n",
              "  .colab-df-spinner {\n",
              "    border: 2px solid var(--fill-color);\n",
              "    border-color: transparent;\n",
              "    border-bottom-color: var(--fill-color);\n",
              "    animation:\n",
              "      spin 1s steps(1) infinite;\n",
              "  }\n",
              "\n",
              "  @keyframes spin {\n",
              "    0% {\n",
              "      border-color: transparent;\n",
              "      border-bottom-color: var(--fill-color);\n",
              "      border-left-color: var(--fill-color);\n",
              "    }\n",
              "    20% {\n",
              "      border-color: transparent;\n",
              "      border-left-color: var(--fill-color);\n",
              "      border-top-color: var(--fill-color);\n",
              "    }\n",
              "    30% {\n",
              "      border-color: transparent;\n",
              "      border-left-color: var(--fill-color);\n",
              "      border-top-color: var(--fill-color);\n",
              "      border-right-color: var(--fill-color);\n",
              "    }\n",
              "    40% {\n",
              "      border-color: transparent;\n",
              "      border-right-color: var(--fill-color);\n",
              "      border-top-color: var(--fill-color);\n",
              "    }\n",
              "    60% {\n",
              "      border-color: transparent;\n",
              "      border-right-color: var(--fill-color);\n",
              "    }\n",
              "    80% {\n",
              "      border-color: transparent;\n",
              "      border-right-color: var(--fill-color);\n",
              "      border-bottom-color: var(--fill-color);\n",
              "    }\n",
              "    90% {\n",
              "      border-color: transparent;\n",
              "      border-bottom-color: var(--fill-color);\n",
              "    }\n",
              "  }\n",
              "</style>\n",
              "\n",
              "  <script>\n",
              "    async function quickchart(key) {\n",
              "      const quickchartButtonEl =\n",
              "        document.querySelector('#' + key + ' button');\n",
              "      quickchartButtonEl.disabled = true;  // To prevent multiple clicks.\n",
              "      quickchartButtonEl.classList.add('colab-df-spinner');\n",
              "      try {\n",
              "        const charts = await google.colab.kernel.invokeFunction(\n",
              "            'suggestCharts', [key], {});\n",
              "      } catch (error) {\n",
              "        console.error('Error during call to suggestCharts:', error);\n",
              "      }\n",
              "      quickchartButtonEl.classList.remove('colab-df-spinner');\n",
              "      quickchartButtonEl.classList.add('colab-df-quickchart-complete');\n",
              "    }\n",
              "    (() => {\n",
              "      let quickchartButtonEl =\n",
              "        document.querySelector('#df-a52d5018-0659-4351-b91a-b8f82b892348 button');\n",
              "      quickchartButtonEl.style.display =\n",
              "        google.colab.kernel.accessAllowed ? 'block' : 'none';\n",
              "    })();\n",
              "  </script>\n",
              "</div>\n",
              "    </div>\n",
              "  </div>\n"
            ]
          },
          "metadata": {},
          "execution_count": 31
        }
      ]
    },
    {
      "cell_type": "markdown",
      "source": [
        "(7) Convert the dataframe into numpy array"
      ],
      "metadata": {
        "id": "XdxyA-iw0ovP"
      }
    },
    {
      "cell_type": "code",
      "source": [
        "new_data = new_ass_data.to_numpy()\n",
        "\n",
        "print('\\nNumpy Array\\n----------\\n', new_data)\n",
        "print('\\nNumpy Array Datatype :', new_data.dtype)"
      ],
      "metadata": {
        "colab": {
          "base_uri": "https://localhost:8080/"
        },
        "id": "3SuNVcoX0hnW",
        "outputId": "47e1fa2e-0367-473f-fddb-cfb6d2f2c5c9"
      },
      "execution_count": 34,
      "outputs": [
        {
          "output_type": "stream",
          "name": "stdout",
          "text": [
            "\n",
            "Numpy Array\n",
            "----------\n",
            " [[ 1.61 80.   30.86]\n",
            " [ 1.63 59.   22.21]\n",
            " [ 1.62 60.   22.86]\n",
            " ...\n",
            " [ 1.77 61.   19.47]\n",
            " [ 1.61 88.   33.95]\n",
            " [ 1.72 78.   26.37]]\n",
            "\n",
            "Numpy Array Datatype : float64\n"
          ]
        }
      ]
    },
    {
      "cell_type": "markdown",
      "source": [
        "(8) Replace the missing BMI values in the array by using the height and weight of the patients. The formula for BMI is : weight / height^2"
      ],
      "metadata": {
        "id": "T-M7VDaE0wQr"
      }
    },
    {
      "cell_type": "code",
      "source": [
        "a[np.where(np.isnan(a))] = 0 a[-15:, :]"
      ],
      "metadata": {
        "id": "si5nED2d0hkc"
      },
      "execution_count": null,
      "outputs": []
    },
    {
      "cell_type": "markdown",
      "source": [
        "(9) Replace the BMI column of the previous dataframe with newly obtained values(Hint: Convert the numpy array to a new dataframe giving same column names and replace the BMI column of the old dataframe with the new one)"
      ],
      "metadata": {
        "id": "EaQv6hCM037K"
      }
    },
    {
      "cell_type": "code",
      "source": [],
      "metadata": {
        "id": "QmbbuhVe0hhr"
      },
      "execution_count": null,
      "outputs": []
    },
    {
      "cell_type": "markdown",
      "source": [
        "(10) Create a barplot of the patients based on their BMI.(4 catagories for the barplot: Underweight(<18.5), Normal(18.5-24.9), Overweight(25-29.9), Obese(>30)) )"
      ],
      "metadata": {
        "id": "fsKta28u0-3A"
      }
    },
    {
      "cell_type": "code",
      "source": [],
      "metadata": {
        "id": "7FMZKtAv0gf-"
      },
      "execution_count": null,
      "outputs": []
    }
  ]
}